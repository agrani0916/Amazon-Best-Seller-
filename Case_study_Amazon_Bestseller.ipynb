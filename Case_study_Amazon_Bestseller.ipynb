{
 "cells": [
  {
   "cell_type": "markdown",
   "id": "e671f9d9",
   "metadata": {},
   "source": [
    "# Amazon Bestseller - Case Study\n"
   ]
  },
  {
   "cell_type": "markdown",
   "id": "6730732f",
   "metadata": {},
   "source": [
    "*********************************************\n",
    "**************************\n",
    "Dataset on Amazon's Top 50 bestselling books from 2009 to 2019. Contains 550 books, data has been categorized into fiction and non-fiction using Goodreads\n",
    "\n",
    "Feature Details :\n",
    "\n",
    " * Name - Name / Title of the book.\n",
    " * Author - Author of the book.\n",
    " * User Rating - Rating of each book given by user out-of 5.\n",
    " * Reviews - Reviews given by the readers.\n",
    " * Price - Price of each book.\n",
    " * Year - Year in which book got published\n",
    " * Genre - Genre of book either it is Fiction or Non Fiction\n",
    " \n",
    "**************************************\n",
    "*******************************************"
   ]
  },
  {
   "cell_type": "code",
   "execution_count": 1,
   "id": "09686d12",
   "metadata": {},
   "outputs": [
    {
     "name": "stderr",
     "output_type": "stream",
     "text": [
      "C:\\Users\\hp\\anaconda3\\lib\\site-packages\\pandas\\core\\computation\\expressions.py:21: UserWarning: Pandas requires version '2.8.4' or newer of 'numexpr' (version '2.7.3' currently installed).\n",
      "  from pandas.core.computation.check import NUMEXPR_INSTALLED\n",
      "C:\\Users\\hp\\anaconda3\\lib\\site-packages\\pandas\\core\\arrays\\masked.py:60: UserWarning: Pandas requires version '1.3.6' or newer of 'bottleneck' (version '1.3.2' currently installed).\n",
      "  from pandas.core import (\n",
      "C:\\Users\\hp\\anaconda3\\lib\\site-packages\\scipy\\__init__.py:146: UserWarning: A NumPy version >=1.16.5 and <1.23.0 is required for this version of SciPy (detected version 1.26.4\n",
      "  warnings.warn(f\"A NumPy version >={np_minversion} and <{np_maxversion}\"\n"
     ]
    }
   ],
   "source": [
    "# Import related libraries\n",
    "import numpy as np\n",
    "import pandas as pd\n",
    "import seaborn as sns\n",
    "import matplotlib.pyplot as plt\n",
    "%matplotlib inline"
   ]
  },
  {
   "cell_type": "code",
   "execution_count": 2,
   "id": "65569f26",
   "metadata": {},
   "outputs": [],
   "source": [
    "#Load dataset using pd.read_csv since it is a CSV file\n",
    "bestseller = pd.read_csv(r'E:\\Function UP\\Python\\Projects\\Amazon best seller\\bestsellers with categories.csv')"
   ]
  },
  {
   "cell_type": "code",
   "execution_count": 3,
   "id": "50f8c0d0",
   "metadata": {},
   "outputs": [
    {
     "data": {
      "text/html": [
       "<div>\n",
       "<style scoped>\n",
       "    .dataframe tbody tr th:only-of-type {\n",
       "        vertical-align: middle;\n",
       "    }\n",
       "\n",
       "    .dataframe tbody tr th {\n",
       "        vertical-align: top;\n",
       "    }\n",
       "\n",
       "    .dataframe thead th {\n",
       "        text-align: right;\n",
       "    }\n",
       "</style>\n",
       "<table border=\"1\" class=\"dataframe\">\n",
       "  <thead>\n",
       "    <tr style=\"text-align: right;\">\n",
       "      <th></th>\n",
       "      <th>Name</th>\n",
       "      <th>Author</th>\n",
       "      <th>User Rating</th>\n",
       "      <th>Reviews</th>\n",
       "      <th>Price</th>\n",
       "      <th>Year</th>\n",
       "      <th>Genre</th>\n",
       "    </tr>\n",
       "  </thead>\n",
       "  <tbody>\n",
       "    <tr>\n",
       "      <th>91</th>\n",
       "      <td>Eat This Not That! Supermarket Survival Guide:...</td>\n",
       "      <td>David Zinczenko</td>\n",
       "      <td>4.5</td>\n",
       "      <td>720</td>\n",
       "      <td>1</td>\n",
       "      <td>2009</td>\n",
       "      <td>Non Fiction</td>\n",
       "    </tr>\n",
       "    <tr>\n",
       "      <th>275</th>\n",
       "      <td>Publication Manual of the American Psychologic...</td>\n",
       "      <td>American Psychological Association</td>\n",
       "      <td>4.5</td>\n",
       "      <td>8580</td>\n",
       "      <td>46</td>\n",
       "      <td>2013</td>\n",
       "      <td>Non Fiction</td>\n",
       "    </tr>\n",
       "    <tr>\n",
       "      <th>411</th>\n",
       "      <td>The Hunger Games Trilogy Boxed Set (1)</td>\n",
       "      <td>Suzanne Collins</td>\n",
       "      <td>4.8</td>\n",
       "      <td>16949</td>\n",
       "      <td>30</td>\n",
       "      <td>2012</td>\n",
       "      <td>Fiction</td>\n",
       "    </tr>\n",
       "    <tr>\n",
       "      <th>432</th>\n",
       "      <td>The Mark of Athena (Heroes of Olympus, Book 3)</td>\n",
       "      <td>Rick Riordan</td>\n",
       "      <td>4.8</td>\n",
       "      <td>6247</td>\n",
       "      <td>10</td>\n",
       "      <td>2012</td>\n",
       "      <td>Fiction</td>\n",
       "    </tr>\n",
       "    <tr>\n",
       "      <th>396</th>\n",
       "      <td>The Great Gatsby</td>\n",
       "      <td>F. Scott Fitzgerald</td>\n",
       "      <td>4.4</td>\n",
       "      <td>11616</td>\n",
       "      <td>7</td>\n",
       "      <td>2014</td>\n",
       "      <td>Fiction</td>\n",
       "    </tr>\n",
       "  </tbody>\n",
       "</table>\n",
       "</div>"
      ],
      "text/plain": [
       "                                                  Name  \\\n",
       "91   Eat This Not That! Supermarket Survival Guide:...   \n",
       "275  Publication Manual of the American Psychologic...   \n",
       "411             The Hunger Games Trilogy Boxed Set (1)   \n",
       "432     The Mark of Athena (Heroes of Olympus, Book 3)   \n",
       "396                                   The Great Gatsby   \n",
       "\n",
       "                                 Author  User Rating  Reviews  Price  Year  \\\n",
       "91                      David Zinczenko          4.5      720      1  2009   \n",
       "275  American Psychological Association          4.5     8580     46  2013   \n",
       "411                     Suzanne Collins          4.8    16949     30  2012   \n",
       "432                        Rick Riordan          4.8     6247     10  2012   \n",
       "396                 F. Scott Fitzgerald          4.4    11616      7  2014   \n",
       "\n",
       "           Genre  \n",
       "91   Non Fiction  \n",
       "275  Non Fiction  \n",
       "411      Fiction  \n",
       "432      Fiction  \n",
       "396      Fiction  "
      ]
     },
     "execution_count": 3,
     "metadata": {},
     "output_type": "execute_result"
    }
   ],
   "source": [
    "bestseller.sample(5)"
   ]
  },
  {
   "cell_type": "code",
   "execution_count": 4,
   "id": "6f4255cf",
   "metadata": {},
   "outputs": [],
   "source": [
    "# Make a copy of the Original dataet and use this copied dtaset for case study, so it's not effect the original dataset.\n",
    "df = bestseller.copy()"
   ]
  },
  {
   "cell_type": "code",
   "execution_count": 5,
   "id": "a448cee6",
   "metadata": {},
   "outputs": [
    {
     "data": {
      "text/plain": [
       "(550, 7)"
      ]
     },
     "execution_count": 5,
     "metadata": {},
     "output_type": "execute_result"
    }
   ],
   "source": [
    "# Lets check how many rows and columns are in the dataset\n",
    "df.shape"
   ]
  },
  {
   "cell_type": "code",
   "execution_count": 6,
   "id": "20d87da2",
   "metadata": {},
   "outputs": [
    {
     "name": "stdout",
     "output_type": "stream",
     "text": [
      "<class 'pandas.core.frame.DataFrame'>\n",
      "RangeIndex: 550 entries, 0 to 549\n",
      "Data columns (total 7 columns):\n",
      " #   Column       Non-Null Count  Dtype  \n",
      "---  ------       --------------  -----  \n",
      " 0   Name         550 non-null    object \n",
      " 1   Author       550 non-null    object \n",
      " 2   User Rating  550 non-null    float64\n",
      " 3   Reviews      550 non-null    int64  \n",
      " 4   Price        550 non-null    int64  \n",
      " 5   Year         550 non-null    int64  \n",
      " 6   Genre        550 non-null    object \n",
      "dtypes: float64(1), int64(3), object(3)\n",
      "memory usage: 30.2+ KB\n"
     ]
    }
   ],
   "source": [
    "# Exploring a brife information about the dataset, gather insights from the same.\n",
    "df.info()"
   ]
  },
  {
   "cell_type": "code",
   "execution_count": 7,
   "id": "9bc23d69",
   "metadata": {},
   "outputs": [
    {
     "data": {
      "text/html": [
       "<div>\n",
       "<style scoped>\n",
       "    .dataframe tbody tr th:only-of-type {\n",
       "        vertical-align: middle;\n",
       "    }\n",
       "\n",
       "    .dataframe tbody tr th {\n",
       "        vertical-align: top;\n",
       "    }\n",
       "\n",
       "    .dataframe thead th {\n",
       "        text-align: right;\n",
       "    }\n",
       "</style>\n",
       "<table border=\"1\" class=\"dataframe\">\n",
       "  <thead>\n",
       "    <tr style=\"text-align: right;\">\n",
       "      <th></th>\n",
       "      <th>Name</th>\n",
       "      <th>Author</th>\n",
       "      <th>User Rating</th>\n",
       "      <th>Reviews</th>\n",
       "      <th>Price</th>\n",
       "      <th>Year</th>\n",
       "      <th>Genre</th>\n",
       "    </tr>\n",
       "  </thead>\n",
       "  <tbody>\n",
       "    <tr>\n",
       "      <th>0</th>\n",
       "      <td>10-Day Green Smoothie Cleanse</td>\n",
       "      <td>JJ Smith</td>\n",
       "      <td>4.7</td>\n",
       "      <td>17350</td>\n",
       "      <td>8</td>\n",
       "      <td>2016</td>\n",
       "      <td>Non Fiction</td>\n",
       "    </tr>\n",
       "    <tr>\n",
       "      <th>1</th>\n",
       "      <td>11/22/63: A Novel</td>\n",
       "      <td>Stephen King</td>\n",
       "      <td>4.6</td>\n",
       "      <td>2052</td>\n",
       "      <td>22</td>\n",
       "      <td>2011</td>\n",
       "      <td>Fiction</td>\n",
       "    </tr>\n",
       "    <tr>\n",
       "      <th>2</th>\n",
       "      <td>12 Rules for Life: An Antidote to Chaos</td>\n",
       "      <td>Jordan B. Peterson</td>\n",
       "      <td>4.7</td>\n",
       "      <td>18979</td>\n",
       "      <td>15</td>\n",
       "      <td>2018</td>\n",
       "      <td>Non Fiction</td>\n",
       "    </tr>\n",
       "    <tr>\n",
       "      <th>3</th>\n",
       "      <td>1984 (Signet Classics)</td>\n",
       "      <td>George Orwell</td>\n",
       "      <td>4.7</td>\n",
       "      <td>21424</td>\n",
       "      <td>6</td>\n",
       "      <td>2017</td>\n",
       "      <td>Fiction</td>\n",
       "    </tr>\n",
       "    <tr>\n",
       "      <th>4</th>\n",
       "      <td>5,000 Awesome Facts (About Everything!) (Natio...</td>\n",
       "      <td>National Geographic Kids</td>\n",
       "      <td>4.8</td>\n",
       "      <td>7665</td>\n",
       "      <td>12</td>\n",
       "      <td>2019</td>\n",
       "      <td>Non Fiction</td>\n",
       "    </tr>\n",
       "    <tr>\n",
       "      <th>...</th>\n",
       "      <td>...</td>\n",
       "      <td>...</td>\n",
       "      <td>...</td>\n",
       "      <td>...</td>\n",
       "      <td>...</td>\n",
       "      <td>...</td>\n",
       "      <td>...</td>\n",
       "    </tr>\n",
       "    <tr>\n",
       "      <th>545</th>\n",
       "      <td>Wrecking Ball (Diary of a Wimpy Kid Book 14)</td>\n",
       "      <td>Jeff Kinney</td>\n",
       "      <td>4.9</td>\n",
       "      <td>9413</td>\n",
       "      <td>8</td>\n",
       "      <td>2019</td>\n",
       "      <td>Fiction</td>\n",
       "    </tr>\n",
       "    <tr>\n",
       "      <th>546</th>\n",
       "      <td>You Are a Badass: How to Stop Doubting Your Gr...</td>\n",
       "      <td>Jen Sincero</td>\n",
       "      <td>4.7</td>\n",
       "      <td>14331</td>\n",
       "      <td>8</td>\n",
       "      <td>2016</td>\n",
       "      <td>Non Fiction</td>\n",
       "    </tr>\n",
       "    <tr>\n",
       "      <th>547</th>\n",
       "      <td>You Are a Badass: How to Stop Doubting Your Gr...</td>\n",
       "      <td>Jen Sincero</td>\n",
       "      <td>4.7</td>\n",
       "      <td>14331</td>\n",
       "      <td>8</td>\n",
       "      <td>2017</td>\n",
       "      <td>Non Fiction</td>\n",
       "    </tr>\n",
       "    <tr>\n",
       "      <th>548</th>\n",
       "      <td>You Are a Badass: How to Stop Doubting Your Gr...</td>\n",
       "      <td>Jen Sincero</td>\n",
       "      <td>4.7</td>\n",
       "      <td>14331</td>\n",
       "      <td>8</td>\n",
       "      <td>2018</td>\n",
       "      <td>Non Fiction</td>\n",
       "    </tr>\n",
       "    <tr>\n",
       "      <th>549</th>\n",
       "      <td>You Are a Badass: How to Stop Doubting Your Gr...</td>\n",
       "      <td>Jen Sincero</td>\n",
       "      <td>4.7</td>\n",
       "      <td>14331</td>\n",
       "      <td>8</td>\n",
       "      <td>2019</td>\n",
       "      <td>Non Fiction</td>\n",
       "    </tr>\n",
       "  </tbody>\n",
       "</table>\n",
       "<p>550 rows × 7 columns</p>\n",
       "</div>"
      ],
      "text/plain": [
       "                                                  Name  \\\n",
       "0                        10-Day Green Smoothie Cleanse   \n",
       "1                                    11/22/63: A Novel   \n",
       "2              12 Rules for Life: An Antidote to Chaos   \n",
       "3                               1984 (Signet Classics)   \n",
       "4    5,000 Awesome Facts (About Everything!) (Natio...   \n",
       "..                                                 ...   \n",
       "545       Wrecking Ball (Diary of a Wimpy Kid Book 14)   \n",
       "546  You Are a Badass: How to Stop Doubting Your Gr...   \n",
       "547  You Are a Badass: How to Stop Doubting Your Gr...   \n",
       "548  You Are a Badass: How to Stop Doubting Your Gr...   \n",
       "549  You Are a Badass: How to Stop Doubting Your Gr...   \n",
       "\n",
       "                       Author  User Rating  Reviews  Price  Year        Genre  \n",
       "0                    JJ Smith          4.7    17350      8  2016  Non Fiction  \n",
       "1                Stephen King          4.6     2052     22  2011      Fiction  \n",
       "2          Jordan B. Peterson          4.7    18979     15  2018  Non Fiction  \n",
       "3               George Orwell          4.7    21424      6  2017      Fiction  \n",
       "4    National Geographic Kids          4.8     7665     12  2019  Non Fiction  \n",
       "..                        ...          ...      ...    ...   ...          ...  \n",
       "545               Jeff Kinney          4.9     9413      8  2019      Fiction  \n",
       "546               Jen Sincero          4.7    14331      8  2016  Non Fiction  \n",
       "547               Jen Sincero          4.7    14331      8  2017  Non Fiction  \n",
       "548               Jen Sincero          4.7    14331      8  2018  Non Fiction  \n",
       "549               Jen Sincero          4.7    14331      8  2019  Non Fiction  \n",
       "\n",
       "[550 rows x 7 columns]"
      ]
     },
     "execution_count": 7,
     "metadata": {},
     "output_type": "execute_result"
    }
   ],
   "source": [
    "#Return DataFrame with duplicate rows removed.\n",
    "df.drop_duplicates()"
   ]
  },
  {
   "cell_type": "code",
   "execution_count": 8,
   "id": "07fd6a85",
   "metadata": {},
   "outputs": [
    {
     "data": {
      "text/html": [
       "<div>\n",
       "<style scoped>\n",
       "    .dataframe tbody tr th:only-of-type {\n",
       "        vertical-align: middle;\n",
       "    }\n",
       "\n",
       "    .dataframe tbody tr th {\n",
       "        vertical-align: top;\n",
       "    }\n",
       "\n",
       "    .dataframe thead th {\n",
       "        text-align: right;\n",
       "    }\n",
       "</style>\n",
       "<table border=\"1\" class=\"dataframe\">\n",
       "  <thead>\n",
       "    <tr style=\"text-align: right;\">\n",
       "      <th></th>\n",
       "      <th>User Rating</th>\n",
       "      <th>Reviews</th>\n",
       "      <th>Price</th>\n",
       "      <th>Year</th>\n",
       "    </tr>\n",
       "  </thead>\n",
       "  <tbody>\n",
       "    <tr>\n",
       "      <th>count</th>\n",
       "      <td>550.000000</td>\n",
       "      <td>550.000000</td>\n",
       "      <td>550.000000</td>\n",
       "      <td>550.000000</td>\n",
       "    </tr>\n",
       "    <tr>\n",
       "      <th>mean</th>\n",
       "      <td>4.618364</td>\n",
       "      <td>11953.281818</td>\n",
       "      <td>13.100000</td>\n",
       "      <td>2014.000000</td>\n",
       "    </tr>\n",
       "    <tr>\n",
       "      <th>std</th>\n",
       "      <td>0.226980</td>\n",
       "      <td>11731.132017</td>\n",
       "      <td>10.842262</td>\n",
       "      <td>3.165156</td>\n",
       "    </tr>\n",
       "    <tr>\n",
       "      <th>min</th>\n",
       "      <td>3.300000</td>\n",
       "      <td>37.000000</td>\n",
       "      <td>0.000000</td>\n",
       "      <td>2009.000000</td>\n",
       "    </tr>\n",
       "    <tr>\n",
       "      <th>25%</th>\n",
       "      <td>4.500000</td>\n",
       "      <td>4058.000000</td>\n",
       "      <td>7.000000</td>\n",
       "      <td>2011.000000</td>\n",
       "    </tr>\n",
       "    <tr>\n",
       "      <th>50%</th>\n",
       "      <td>4.700000</td>\n",
       "      <td>8580.000000</td>\n",
       "      <td>11.000000</td>\n",
       "      <td>2014.000000</td>\n",
       "    </tr>\n",
       "    <tr>\n",
       "      <th>75%</th>\n",
       "      <td>4.800000</td>\n",
       "      <td>17253.250000</td>\n",
       "      <td>16.000000</td>\n",
       "      <td>2017.000000</td>\n",
       "    </tr>\n",
       "    <tr>\n",
       "      <th>max</th>\n",
       "      <td>4.900000</td>\n",
       "      <td>87841.000000</td>\n",
       "      <td>105.000000</td>\n",
       "      <td>2019.000000</td>\n",
       "    </tr>\n",
       "  </tbody>\n",
       "</table>\n",
       "</div>"
      ],
      "text/plain": [
       "       User Rating       Reviews       Price         Year\n",
       "count   550.000000    550.000000  550.000000   550.000000\n",
       "mean      4.618364  11953.281818   13.100000  2014.000000\n",
       "std       0.226980  11731.132017   10.842262     3.165156\n",
       "min       3.300000     37.000000    0.000000  2009.000000\n",
       "25%       4.500000   4058.000000    7.000000  2011.000000\n",
       "50%       4.700000   8580.000000   11.000000  2014.000000\n",
       "75%       4.800000  17253.250000   16.000000  2017.000000\n",
       "max       4.900000  87841.000000  105.000000  2019.000000"
      ]
     },
     "execution_count": 8,
     "metadata": {},
     "output_type": "execute_result"
    }
   ],
   "source": [
    "df.describe()"
   ]
  },
  {
   "cell_type": "code",
   "execution_count": 9,
   "id": "153349fc",
   "metadata": {},
   "outputs": [
    {
     "data": {
      "text/html": [
       "<div>\n",
       "<style scoped>\n",
       "    .dataframe tbody tr th:only-of-type {\n",
       "        vertical-align: middle;\n",
       "    }\n",
       "\n",
       "    .dataframe tbody tr th {\n",
       "        vertical-align: top;\n",
       "    }\n",
       "\n",
       "    .dataframe thead th {\n",
       "        text-align: right;\n",
       "    }\n",
       "</style>\n",
       "<table border=\"1\" class=\"dataframe\">\n",
       "  <thead>\n",
       "    <tr style=\"text-align: right;\">\n",
       "      <th></th>\n",
       "      <th>Name</th>\n",
       "      <th>Author</th>\n",
       "      <th>Genre</th>\n",
       "    </tr>\n",
       "  </thead>\n",
       "  <tbody>\n",
       "    <tr>\n",
       "      <th>count</th>\n",
       "      <td>550</td>\n",
       "      <td>550</td>\n",
       "      <td>550</td>\n",
       "    </tr>\n",
       "    <tr>\n",
       "      <th>unique</th>\n",
       "      <td>351</td>\n",
       "      <td>248</td>\n",
       "      <td>2</td>\n",
       "    </tr>\n",
       "    <tr>\n",
       "      <th>top</th>\n",
       "      <td>Publication Manual of the American Psychologic...</td>\n",
       "      <td>Jeff Kinney</td>\n",
       "      <td>Non Fiction</td>\n",
       "    </tr>\n",
       "    <tr>\n",
       "      <th>freq</th>\n",
       "      <td>10</td>\n",
       "      <td>12</td>\n",
       "      <td>310</td>\n",
       "    </tr>\n",
       "  </tbody>\n",
       "</table>\n",
       "</div>"
      ],
      "text/plain": [
       "                                                     Name       Author  \\\n",
       "count                                                 550          550   \n",
       "unique                                                351          248   \n",
       "top     Publication Manual of the American Psychologic...  Jeff Kinney   \n",
       "freq                                                   10           12   \n",
       "\n",
       "              Genre  \n",
       "count           550  \n",
       "unique            2  \n",
       "top     Non Fiction  \n",
       "freq            310  "
      ]
     },
     "execution_count": 9,
     "metadata": {},
     "output_type": "execute_result"
    }
   ],
   "source": [
    "df.describe(include='O')"
   ]
  },
  {
   "cell_type": "code",
   "execution_count": 10,
   "id": "3ac37307",
   "metadata": {},
   "outputs": [
    {
     "data": {
      "text/plain": [
       "['Name', 'Author', 'User Rating', 'Reviews', 'Price', 'Year', 'Genre']"
      ]
     },
     "execution_count": 10,
     "metadata": {},
     "output_type": "execute_result"
    }
   ],
   "source": [
    "df.columns.tolist()"
   ]
  },
  {
   "cell_type": "code",
   "execution_count": 11,
   "id": "14c15d41",
   "metadata": {},
   "outputs": [
    {
     "name": "stdout",
     "output_type": "stream",
     "text": [
      "Name -  351\n",
      "Author -  248\n",
      "User Rating -  14\n",
      "Reviews -  346\n",
      "Price -  40\n",
      "Year -  11\n",
      "Genre -  2\n"
     ]
    }
   ],
   "source": [
    "# Check for how many unique values are present in each variables\n",
    "print('Name - ', df['Name'].nunique())\n",
    "print('Author - ', df['Author'].nunique())\n",
    "print('User Rating - ', df['User Rating'].nunique())\n",
    "print('Reviews - ', df['Reviews'].nunique())\n",
    "print('Price - ', df['Price'].nunique())\n",
    "print('Year - ', df['Year'].nunique())\n",
    "print('Genre - ', df['Genre'].nunique())"
   ]
  },
  {
   "cell_type": "code",
   "execution_count": 12,
   "id": "e3d5cad2",
   "metadata": {},
   "outputs": [
    {
     "name": "stdout",
     "output_type": "stream",
     "text": [
      "Name -  {'12 Rules for Life: An Antidote to Chaos', 'The President Is Missing: A Novel', 'Cabin Fever (Diary of a Wimpy Kid, Book 6)', 'Unicorn Coloring Book: For Kids Ages 4-8 (US Edition) (Silly Bear Coloring Books)', 'Cravings: Recipes for All the Food You Want to Eat: A Cookbook', 'The Power of Habit: Why We Do What We Do in Life and Business', 'Mockingjay (The Hunger Games)', 'Hillbilly Elegy: A Memoir of a Family and Culture in Crisis', 'Guts', 'Radical: Taking Back Your Faith from the American Dream', 'All the Light We Cannot See', 'Night (Night)', 'The Big Short: Inside the Doomsday Machine', 'Goodnight, Goodnight Construction Site (Hardcover Books for Toddlers, Preschool Books for Kids)', \"The Time Traveler's Wife\", 'The Guardians: A Novel', 'The Meltdown (Diary of a Wimpy Kid Book 13)', 'A Gentleman in Moscow: A Novel', 'Girl, Wash Your Face: Stop Believing the Lies About Who You Are So You Can Become Who You Were Meant to Be', \"The Serpent's Shadow (The Kane Chronicles, Book 3)\", 'Dog Man: For Whom the Ball Rolls: From the Creator of Captain Underpants (Dog Man #7)', 'To Kill a Mockingbird', 'The Casual Vacancy', 'Steve Jobs', \"Killing Patton: The Strange Death of World War II's Most Audacious General (Bill O'Reilly's Killing Series)\", 'Gone Girl', 'Milk and Vine: Inspirational Quotes From Classic Vines', 'The Pioneer Woman Cooks: A Year of Holidays: 140 Step-by-Step Recipes for Simple, Scrumptious Celebrations', 'Milk and Honey', 'Fantastic Beasts and Where to Find Them: The Original Screenplay (Harry Potter)', 'Where the Wild Things Are', 'Humans of New York : Stories', 'Goodnight Moon', 'Frozen (Little Golden Book)', 'Capital in the Twenty First Century', 'Act Like a Lady, Think Like a Man: What Men Really Think About Love, Relationships, Intimacy, and Commitment', 'Orphan Train', 'And the Mountains Echoed', 'The Mueller Report', 'Game of Thrones Boxed Set: A Game of Thrones/A Clash of Kings/A Storm of Swords/A Feast for Crows', 'The Twilight Saga Collection', 'Diary of a Wimpy Kid: The Long Haul', 'The Hunger Games (Book 1)', 'Option B: Facing Adversity, Building Resilience, and Finding Joy', 'Twilight (The Twilight Saga, Book 1)', 'The Complete Ketogenic Diet for Beginners: Your Essential Guide to Living the Keto Lifestyle', 'Cutting for Stone', 'The Five Dysfunctions of a Team: A Leadership Fable', 'The Blood Sugar Solution: The UltraHealthy Program for Losing Weight, Preventing Disease, and Feeling Great Now!', 'Harry Potter and the Chamber of Secrets: The Illustrated Edition (Harry Potter, Book 2)', 'National Geographic Little Kids First Big Book of Why (National Geographic Little Kids First Big Books)', 'Eat This Not That! Supermarket Survival Guide: The No-Diet Weight Loss Solution', 'Tina Fey: Bossypants', 'Divine Soul Mind Body Healing and Transmission System: The Divine Way to Heal You, Humanity, Mother Earth, and All…', 'The Official SAT Study Guide, 2016 Edition (Official Study Guide for the New Sat)', 'Harry Potter and the Cursed Child, Parts 1 & 2, Special Rehearsal Edition Script', 'Harry Potter Coloring Book', 'The Unofficial Harry Potter Cookbook: From Cauldron Cakes to Knickerbocker Glory--More Than 150 Magical Recipes for…', 'Between the World and Me', 'Diary of a Wimpy Kid: The Last Straw (Book 3)', 'Sookie Stackhouse', \"Heaven is for Real: A Little Boy's Astounding Story of His Trip to Heaven and Back\", 'Puppy Birthday to You! (Paw Patrol) (Little Golden Book)', 'The 5 Love Languages: The Secret to Love that Lasts', 'Harry Potter and the Prisoner of Azkaban: The Illustrated Edition (Harry Potter, Book 3)', 'Thinking, Fast and Slow', \"George Washington's Sacred Fire\", 'The Constitution of the United States', 'The Getaway', 'Adult Coloring Book: Stress Relieving Patterns', 'The 5 Love Languages: The Secret to Love That Lasts', 'Diagnostic and Statistical Manual of Mental Disorders, 5th Edition: DSM-5', 'Fire and Fury: Inside the Trump White House', 'First 100 Words', \"Food Rules: An Eater's Manual\", 'The Tipping Point: How Little Things Can Make a Big Difference', 'Love You Forever', 'Double Down (Diary of a Wimpy Kid #11)', 'Secret Garden: An Inky Treasure Hunt and Coloring Book (For Adults, mindfulness coloring)', 'Born to Run', 'The Life-Changing Magic of Tidying Up: The Japanese Art of Decluttering and Organizing', 'The Silent Patient', 'A Stolen Life: A Memoir', 'Tools of Titans: The Tactics, Routines, and Habits of Billionaires, Icons, and World-Class Performers', 'Salt, Fat, Acid, Heat: Mastering the Elements of Good Cooking', 'The Road to Serfdom: Text and Documents--The Definitive Edition (The Collected Works of F. A. Hayek, Volume 2)', 'If I Stay', 'The Ugly Truth (Diary of a Wimpy Kid, Book 5)', 'Shred: The Revolutionary Diet: 6 Weeks 4 Inches 2 Sizes', 'Obama: An Intimate Portrait', 'Pokémon Deluxe Essential Handbook: The Need-to-Know Stats and Facts on Over 700 Pokémon', 'The Five Love Languages: How to Express Heartfelt Commitment to Your Mate', 'Where the Crawdads Sing', 'Dead And Gone: A Sookie Stackhouse Novel (Sookie Stackhouse/True Blood)', 'Things That Matter: Three Decades of Passions, Pastimes and Politics [Deckled Edge]', 'Good Days Start With Gratitude: A 52 Week Guide To Cultivate An Attitude Of Gratitude: Gratitude Journal', 'A Wrinkle in Time (Time Quintet)', 'Decision Points', '11/22/63: A Novel', 'Dog Man: Brawl of the Wild: From the Creator of Captain Underpants (Dog Man #6)', 'The Hate U Give', 'Jesus Calling: Enjoying Peace in His Presence (with Scripture References)', 'The Plant Paradox Cookbook: 100 Delicious Recipes to Help You Lose Weight, Heal Your Gut, and Live Lectin-Free', 'The Fault in Our Stars', 'The Litigators', 'Crazy Rich Asians (Crazy Rich Asians Trilogy)', 'Creative Haven Creative Cats Coloring Book (Adult Coloring)', 'Wonder', 'The Dukan Diet: 2 Steps to Lose the Weight, 2 Steps to Keep It Off Forever', 'Last Week Tonight with John Oliver Presents A Day in the Life of Marlon Bundo (Better Bundo Book, LGBT Children\\x92s Book)', 'The Pioneer Woman Cooks: Dinnertime - Comfort Classics, Freezer Food, 16-minute Meals, and Other Delicious Ways to Solve…', \"Glenn Beck's Common Sense: The Case Against an Out-of-Control Government, Inspired by Thomas Paine\", 'The Elegance of the Hedgehog', 'Being Mortal: Medicine and What Matters in the End', 'Dead Reckoning (Sookie Stackhouse/True Blood, Book 11)', 'Dover Creative Haven Art Nouveau Animal Designs Coloring Book (Creative Haven Coloring Books)', 'The Book with No Pictures', 'The Magnolia Story', 'Divergent', 'Kitchen Confidential Updated Edition: Adventures in the Culinary Underbelly (P.S.)', 'Strange Planet (Strange Planet Series)', \"The Girl Who Kicked the Hornet's Nest (Millennium Trilogy)\", 'New Moon (The Twilight Saga)', 'Mindset: The New Psychology of Success', 'The House of Hades (Heroes of Olympus, Book 4)', 'A Higher Loyalty: Truth, Lies, and Leadership', 'Howard Stern Comes Again', 'Wrecking Ball (Diary of a Wimpy Kid Book 14)', 'Joyland (Hard Case Crime)', \"George Washington's Secret Six: The Spy Ring That Saved the American Revolution\", \"In the Garden of Beasts: Love, Terror, and an American Family in Hitler's Berlin\", 'Enchanted Forest: An Inky Quest and Coloring book (Activity Books, Mindfulness and Meditation, Illustrated Floral Prints…', 'Laugh-Out-Loud Jokes for Kids', 'Olive Kitteridge', 'Life', 'The Alchemist', 'One Thousand Gifts: A Dare to Live Fully Right Where You Are', 'Ship of Fools: How a Selfish Ruling Class Is Bringing America to the Brink of Revolution', 'A Man Called Ove: A Novel', 'The Very Hungry Caterpillar', 'Little Fires Everywhere', \"Can't Hurt Me: Master Your Mind and Defy the Odds\", 'Watchmen', 'The Legend of Zelda: Hyrule Historia', 'The Boys in the Boat: Nine Americans and Their Epic Quest for Gold at the 1936 Berlin Olympics', 'The Instant Pot Electric Pressure Cooker Cookbook: Easy Recipes for Fast & Healthy Meals', 'The Martian', 'Women Food and God: An Unexpected Path to Almost Everything', 'The Book of Basketball: The NBA According to The Sports Guy', \"The Daily Show with Jon Stewart Presents Earth (The Book): A Visitor's Guide to the Human Race\", 'The 5000 Year Leap', 'The Guernsey Literary and Potato Peel Pie Society', 'The Whole30: The 30-Day Guide to Total Health and Food Freedom', 'Teach Like a Champion: 49 Techniques that Put Students on the Path to College', 'David and Goliath: Underdogs, Misfits, and the Art of Battling Giants', 'Origin: A Novel (Robert Langdon)', 'Breaking Dawn (The Twilight Saga, Book 4)', 'The Goldfinch: A Novel (Pulitzer Prize for Fiction)', 'Leonardo da Vinci', 'The 7 Habits of Highly Effective People: Powerful Lessons in Personal Change', 'The Paris Wife: A Novel', 'Catching Fire (The Hunger Games)', 'Hyperbole and a Half: Unfortunate Situations, Flawed Coping Mechanisms, Mayhem, and Other Things That Happened', 'The Total Money Makeover: Classic Edition: A Proven Plan for Financial Fitness', 'Killing Kennedy: The End of Camelot', 'The Girl with the Dragon Tattoo (Millennium Series)', 'Outliers: The Story of Success', 'Switch: How to Change Things When Change Is Hard', \"Good to Great: Why Some Companies Make the Leap and Others Don't\", 'StrengthsFinder 2.0', '5,000 Awesome Facts (About Everything!) (National Geographic Kids)', \"The Harbinger: The Ancient Mystery that Holds the Secret of America's Future\", 'Arguing with Idiots: How to Stop Small Minds and Big Government', 'I, Alex Cross', 'Becoming', \"Three Cups of Tea: One Man's Mission to Promote Peace - One School at a Time\", 'Inheritance: Book IV (Inheritance Cycle)', 'The Pout-Pout Fish', 'Fahrenheit 451', 'Autobiography of Mark Twain, Vol. 1', 'A Game of Thrones / A Clash of Kings / A Storm of Swords / A Feast of Crows / A Dance with Dragons', 'Uninvited: Living Loved When You Feel Less Than, Left Out, and Lonely', 'Little Bee: A Novel', 'The Racketeer', 'Delivering Happiness: A Path to Profits, Passion, and Purpose', 'Fifty Shades Trilogy (Fifty Shades of Grey / Fifty Shades Darker / Fifty Shades Freed)', 'The Immortal Life of Henrietta Lacks', 'The Blood of Olympus (The Heroes of Olympus (5))', 'The Wright Brothers', 'Sycamore Row (Jake Brigance)', 'No Easy Day: The Autobiography of a Navy Seal: The Firsthand Account of the Mission That Killed Osama Bin Laden', 'The Hunger Games', 'The Nightingale: A Novel', 'The Girl on the Train', \"Oh, the Places You'll Go!\", 'Fear: Trump in the White House', 'The China Study: The Most Comprehensive Study of Nutrition Ever Conducted And the Startling Implications for Diet…', 'Unfreedom of the Press', 'The Lost Symbol', 'I Am Confident, Brave & Beautiful: A Coloring Book for Girls', 'Go the F**k to Sleep', 'Under the Dome: A Novel', 'Old School (Diary of a Wimpy Kid #10)', 'Dead in the Family (Sookie Stackhouse/True Blood, Book 10)', \"What to Expect When You're Expecting\", \"A Patriot's History of the United States: From Columbus's Great Discovery to the War on Terror\", \"Giraffes Can't Dance\", 'Alexander Hamilton', 'Game Change: Obama and the Clintons, McCain and Palin, and the Race of a Lifetime', 'What Pet Should I Get? (Classic Seuss)', 'The Hunger Games Trilogy Boxed Set (1)', 'Diary of a Wimpy Kid: Hard Luck, Book 8', 'Mastering the Art of French Cooking, Vol. 2', \"Proof of Heaven: A Neurosurgeon's Journey into the Afterlife\", 'The Short Second Life of Bree Tanner: An Eclipse Novella (The Twilight Saga)', 'Instant Pot Pressure Cooker Cookbook: 500 Everyday Recipes for Beginners and Advanced Users. Try Easy and Healthy…', 'Thug Kitchen: The Official Cookbook: Eat Like You Give a F*ck (Thug Kitchen Cookbooks)', 'American Sniper: The Autobiography of the Most Lethal Sniper in U.S. Military History', 'The Help', 'Educated: A Memoir', 'Rush Revere and the First Patriots: Time-Travel Adventures With Exceptional Americans (2)', 'Percy Jackson and the Olympians Paperback Boxed Set (Books 1-3)', \"Killing Lincoln: The Shocking Assassination that Changed America Forever (Bill O'Reilly's Killing Series)\", 'The 4 Hour Body: An Uncommon Guide to Rapid Fat Loss, Incredible Sex and Becoming Superhuman', 'The Confession: A Novel', \"Player's Handbook (Dungeons & Dragons)\", 'The Subtle Art of Not Giving a F*ck: A Counterintuitive Approach to Living a Good Life', 'The Wonky Donkey', 'Super Freakonomics: Global Cooling, Patriotic Prostitutes, and Why Suicide Bombers Should Buy Life Insurance', 'Eclipse (Twilight Sagas)', '1984 (Signet Classics)', 'Homebody: A Guide to Creating Spaces You Never Want to Leave', \"Balance (Angie's Extreme Stress Menders)\", 'Have a Little Faith: A True Story', 'The Love Dare', 'Adult Coloring Books: A Coloring Book for Adults Featuring Mandalas and Henna Inspired Flowers, Animals, and Paisley…', 'True Compass: A Memoir', 'The Mark of Athena (Heroes of Olympus, Book 3)', 'How to Win Friends & Influence People', 'The Going-To-Bed Book', \"Sarah's Key\", 'The Maze Runner (Book 1)', 'Broke: The Plan to Restore Our Trust, Truth and Treasure', 'The Official SAT Study Guide', 'Killers of the Flower Moon: The Osage Murders and the Birth of the FBI', 'Thirteen Reasons Why', 'You Are a Badass: How to Stop Doubting Your Greatness and Start Living an Awesome Life', 'The Wonderful Things You Will Be', 'Lean In: Women, Work, and the Will to Lead', 'The Plant Paradox: The Hidden Dangers in \"Healthy\" Foods That Cause Disease and Weight Gain', 'Adult Coloring Book Designs: Stress Relief Coloring Book: Garden Designs, Mandalas, Animals, and Paisley Patterns', 'Dog Man and Cat Kid: From the Creator of Captain Underpants (Dog Man #4)', 'Wheat Belly: Lose the Wheat, Lose the Weight, and Find Your Path Back to Health', \"Killing the Rising Sun: How America Vanquished World War II Japan (Bill O'Reilly's Killing Series)\", 'Magnolia Table: A Collection of Recipes for Gathering', 'Go Set a Watchman: A Novel', 'The Lego Ideas Book: Unlock Your Imagination', \"It's Not Supposed to Be This Way: Finding Unexpected Strength When Disappointments Leave You Shattered\", 'Ultimate Sticker Book: Frozen: More Than 60 Reusable Full-Color Stickers', 'The Pioneer Woman Cooks: Food from My Frontier', 'Hamilton: The Revolution', 'The Sun and Her Flowers', 'Barefoot Contessa Foolproof: Recipes You Can Trust: A Cookbook', 'Ready Player One: A Novel', 'The Girl Who Played with Fire (Millennium)', 'Calm the F*ck Down: An Irreverent Adult Coloring Book (Irreverent Book Series)', 'Dog Man: Lord of the Fleas: From the Creator of Captain Underpants (Dog Man #5)', 'Going Rogue: An American Life', 'Little Blue Truck', 'Crazy Love: Overwhelmed by a Relentless God', 'Publication Manual of the American Psychological Association, 6th Edition', 'Allegiant', 'Brown Bear, Brown Bear, What Do You See?', 'Make Your Bed: Little Things That Can Change Your Life...And Maybe the World', 'The Art of Racing in the Rain: A Novel', 'Unbroken: A World War II Story of Survival, Resilience, and Redemption', 'Baby Touch and Feel: Animals', 'Knock-Knock Jokes for Kids', 'The Red Pyramid (The Kane Chronicles, Book 1)', 'Water for Elephants: A Novel', \"Quiet: The Power of Introverts in a World That Can't Stop Talking\", 'The Third Wheel (Diary of a Wimpy Kid, Book 7)', '10-Day Green Smoothie Cleanse', 'What Should Danny Do? (The Power to Choose Series)', 'Love Wins: A Book About Heaven, Hell, and the Fate of Every Person Who Ever Lived', 'Drive: The Surprising Truth About What Motivates Us', \"Killing Jesus (Bill O'Reilly's Killing Series)\", 'What Happened', 'If Animals Kissed Good Night', 'Fifty Shades of Grey: Book One of the Fifty Shades Trilogy (Fifty Shades of Grey Series)', 'School Zone - Big Preschool Workbook - Ages 4 and Up, Colors, Shapes, Numbers 1-10, Alphabet, Pre-Writing, Pre-Reading…', 'Eclipse (Twilight)', 'Winter of the World: Book Two of the Century Trilogy', 'Grey: Fifty Shades of Grey as Told by Christian (Fifty Shades of Grey Series)', 'JOURNEY TO THE ICE P', 'When Breath Becomes Air', 'Soul Healing Miracles: Ancient and New Sacred Wisdom, Knowledge, and Practical Techniques for Healing the Spiritual…', \"Grain Brain: The Surprising Truth about Wheat, Carbs, and Sugar--Your Brain's Silent Killers\", 'The Day the Crayons Quit', 'Doctor Sleep: A Novel', 'The Last Lecture', 'Dear Zoo: A Lift-the-Flap Book', 'Harry Potter Paperback Box Set (Books 1-7)', 'The Book Thief', 'Barefoot Contessa, How Easy Is That?: Fabulous Recipes & Easy Tips', 'Adult Coloring Book: Stress Relieving Animal Designs', 'Wild: From Lost to Found on the Pacific Crest Trail', 'Fifty Shades Freed: Book Three of the Fifty Shades Trilogy (Fifty Shades of Grey Series) (English Edition)', 'National Geographic Kids Why?: Over 1,111 Answers to Everything', 'Daring Greatly: How the Courage to Be Vulnerable Transforms the Way We Live, Love, Parent, and Lead', 'Fifty Shades Darker', 'Liberty and Tyranny: A Conservative Manifesto', 'Make It Ahead: A Barefoot Contessa Cookbook', \"Whose Boat Is This Boat?: Comments That Don't Help in the Aftermath of a Hurricane\", \"The 17 Day Diet: A Doctor's Plan Designed for Rapid Results\", 'Dog Man: A Tale of Two Kitties: From the Creator of Captain Underpants (Dog Man #3)', 'The Last Olympian (Percy Jackson and the Olympians, Book 5)', 'Thomas Jefferson: The Art of Power', \"The Handmaid's Tale\", 'Dog Days (Diary of a Wimpy Kid, Book 4) (Volume 4)', 'Looking for Alaska', 'Dog Man: Fetch-22: From the Creator of Captain Underpants (Dog Man #8)', 'Astrophysics for People in a Hurry', 'Towers of Midnight (Wheel of Time, Book Thirteen)', 'The Throne of Fire (The Kane Chronicles, Book 2)', 'Harry Potter and the Goblet of Fire: The Illustrated Edition (Harry Potter, Book 4) (4)', 'Difficult Riddles For Smart Kids: 300 Difficult Riddles And Brain Teasers Families Will Love (Books for Smart Kids)', 'The Girl Who Played with Fire (Millennium Series)', \"Harry Potter and the Sorcerer's Stone: The Illustrated Edition (Harry Potter, Book 1)\", 'The Amateur', 'Girl, Stop Apologizing: A Shame-Free Plan for Embracing and Achieving Your Goals', 'Humans of New York', 'Sh*t My Dad Says', 'Rush Revere and the Brave Pilgrims: Time-Travel Adventures with Exceptional Americans (1)', 'Happy, Happy, Happy: My Life and Legacy as the Duck Commander', 'The Lost Hero (Heroes of Olympus, Book 1)', 'The Four Agreements: A Practical Guide to Personal Freedom (A Toltec Wisdom Book)', 'What If?: Serious Scientific Answers to Absurd Hypothetical Questions', 'The Shack: Where Tragedy Confronts Eternity', \"Killing Reagan: The Violent Assault That Changed a Presidency (Bill O'Reilly's Killing Series)\", 'Eat to Live: The Amazing Nutrient-Rich Program for Fast and Sustained Weight Loss, Revised Edition', 'A Dance with Dragons (A Song of Ice and Fire)', \"Lettering and Modern Calligraphy: A Beginner's Guide: Learn Hand Lettering and Brush Lettering\", 'The Son of Neptune (Heroes of Olympus, Book 2)', 'Divergent / Insurgent', 'Eat This, Not That! Thousands of Simple Food Swaps that Can Save You 10, 20, 30 Pounds--or More!', 'Creative Haven Owls Coloring Book (Adult Coloring)', 'The Great Gatsby', 'Inferno', 'P is for Potty! (Sesame Street) (Lift-the-Flap)', 'The Body Keeps the Score: Brain, Mind, and Body in the Healing of Trauma'}\n",
      "Author -  {'Rod Campbell', 'Chrissy Teigen', 'Daniel Lipkowitz', 'David Goggins', 'Bessel van der Kolk M.D.', 'Patrick Thorpe', 'Chip Gaines', 'Marty Noble', 'Paula McLain', 'Sherri Duskey Rinker', 'Audrey Niffenegger', 'M Prefontaine', 'Naomi Kleinberg', 'James Patterson', 'W. Cleon Skousen', 'Jon Meacham', 'R. J. Palacio', 'Mark Hyman M.D.', 'Gallup', 'RH Disney', 'Ta-Nehisi Coates', 'Sheryl Sandberg', 'Roger Priddy', 'Gayle Forman', 'Susan Cain', 'Amy Ramos', 'Randall Munroe', 'School Zone', 'J. D. Vance', 'Sarah Palin', 'Anthony Doerr', 'Silly Bear', 'Stephen R. Covey', 'Adir Levy', 'Zhi Gang Sha', 'Bill Simmons', 'Suzanne Collins', 'Margaret Wise Brown', 'Ernest Cline', 'Christopher Paolini', \"Sasha O'Hara\", 'Mary Ann Shaffer', 'Edward M. Kennedy', 'George W. Bush', 'Michael Pollan', 'Julia Child', 'Golden Books', 'B. J. Novak', 'Ray Bradbury', 'Angie Thomas', 'Joanna Gaines', 'William P. Young', 'Margaret Atwood', 'Jordan B. Peterson', 'William Davis', 'Mark Manson', 'Scholastic', 'Peter A. Lillback', 'Dr. Seuss', \"Madeleine L'Engle\", 'Randy Pausch', 'Charles Duhigg', 'Lin-Manuel Miranda', 'Sarah Young', 'Jonathan Cahn', 'Ina Garten', 'Carol S. Dweck', 'George Orwell', 'Jaycee Dugard', 'Dale Carnegie', 'Johanna Basford', 'Rush Limbaugh', 'Admiral William H. McRaven', 'Jill Twiss', 'Patrick Lencioni', 'Amy Shields', 'Harper Lee', 'Gary Chapman', 'JJ Smith', 'Dr. Steven R Gundry MD', 'Elie Wiesel', 'Michael Wolff', 'Tatiana de Rosnay', 'Muriel Barbery', 'Hillary Rodham Clinton', 'E L James', 'Charles Krauthammer', 'Thomas Campbell', 'The Staff of The Late Show with\\x85', 'Laura Hillenbrand', 'Paula Hawkins', 'George R. R. Martin', 'Veronica Roth', 'Melissa Hartwig Urban', 'Edward Klein', 'Giles Andreae', 'Daniel Kahneman', 'Ann Whitford Paul', 'Ron Chernow', 'Abraham Verghese', 'Doug Lemov', 'Alex Michaelides', 'Francis Chan', 'J. K. Rowling', 'David Grann', 'Andy Weir', 'Thomas Piketty', 'Laurel Randolph', 'Marie Kondō', 'Ree Drummond', 'David McCullough', 'Marjorie Sarnat', 'Emily Winfield Martin', 'Atul Gawande', 'James Dashner', 'Neil deGrasse Tyson', 'Steve Harvey', 'Celeste Ng', 'Maurice Sendak', 'Fredrik Backman', 'Crispin Boyer', 'Tony Hsieh', 'Sara Gruen', 'Kevin Kwan', 'Coloring Books for Adults', 'Amor Towles', 'Bruce Springsteen', 'John Green', 'Ian K. Smith M.D.', 'Brandon Stanton', 'Wizards RPG Team', 'Justin Halpern', 'Markus Zusak', 'Khaled Hosseini', 'Bob Woodward', 'Jim Collins', 'Stieg Larsson', 'Delegates of the Constitutional\\x85', 'Chris Kyle', 'Todd Burpo', 'Walter Isaacson', 'Mark Owen', 'Drew Daywalt', 'Hopscotch Girls', 'Bill Martin Jr.', 'Pretty Simple Press', 'Kristin Hannah', 'Rob Bell', 'Adam Gasiewski', 'Adult Coloring Book Designs', 'Stephen King', 'George R.R. Martin', 'Gillian Flynn', 'Phil Robertson', 'Jennifer Smith', 'Cheryl Strayed', 'Sandra Boynton', 'Donna Tartt', 'Malcolm Gladwell', 'Alice Schertle', 'Paper Peony Press', 'F. Scott Fitzgerald', 'Allie Brosh', 'Mitch Albom', 'Dan Brown', 'Steven D. Levitt', 'Tina Fey', 'Daniel James Brown', 'Jeff Kinney', 'Garth Stein', 'Rachel Hollis', 'Chris Cleave', 'Jay Asher', 'Greg Mortenson', 'Eben Alexander', 'Timothy Ferriss', 'Adam Mansbach', 'Michelle Obama', 'Anthony Bourdain', 'Daniel H. Pink', 'Raina Telgemeier', 'Paul Kalanithi', 'David Perlmutter MD', 'Pete Souza', 'Dave Ramsey', 'Thug Kitchen', \"Bill O'Reilly\", 'Eric Larson', 'The College Board', 'Jen Sincero', 'Mark Twain', 'F. A. Hayek', 'Stephenie Meyer', 'Jon Stewart', 'Glenn Beck', 'Chip Heath', 'Tara Westover', 'J.K. Rowling', 'James Comey', 'American Psychological Association', 'National Geographic Kids', 'Angie Grace', 'David Zinczenko', 'Samin Nosrat', 'Robert Jordan', 'Craig Smith', 'Lysa TerKeurst', 'Elizabeth Strout', 'Brian Kilmeade', 'Joel Fuhrman MD', 'Michael Lewis', 'Rupi Kaur', 'Ann Voskamp', 'Eric Carle', 'Brené Brown', 'Blue Star Coloring', 'Mark R. Levin', 'Howard Stern', 'Rob Elliott', 'Christina Baker Kline', 'Pierre Dukan', 'John Heilemann', 'The Washington Post', 'American Psychiatric Association', 'Deborah Diesen', 'Delia Owens', 'Robert Munsch', 'Ken Follett', 'Stephen Kendrick', 'Tucker Carlson', 'Dinah Bucholz', 'Don Miguel Ruiz', 'Dav Pilkey', 'Charlaine Harris', 'David Platt', 'DK', 'Paulo Coelho', 'Keith Richards', 'Rick Riordan', 'John Grisham', 'Geneen Roth', 'Kathryn Stockett', 'Larry Schweikart', 'Mike Moreno', 'Alan Moore', 'Heidi Murkoff', 'Nathan W. Pyle', 'Rebecca Skloot'}\n",
      "User Rating -  {3.9, 4.8, 4.5, 4.7, 4.6, 4.4, 4.3, 4.2, 4.9, 3.8, 4.0, 3.6, 3.3, 4.1}\n",
      "Reviews -  {2052, 14344, 22536, 6169, 37, 2091, 2094, 4148, 4149, 28729, 12361, 2122, 6222, 22614, 2134, 2137, 6247, 22641, 26741, 10369, 49288, 2186, 4247, 14493, 47265, 6310, 18613, 10426, 4290, 8393, 6346, 220, 2272, 6377, 2282, 16643, 4360, 2313, 2314, 4370, 8491, 10559, 12619, 12643, 2426, 8580, 8587, 6540, 408, 4505, 4506, 4519, 25001, 438, 440, 8634, 6600, 2507, 460, 471, 18904, 27098, 4571, 2525, 10721, 4585, 491, 4587, 23047, 10760, 6669, 2580, 4628, 6679, 4633, 2586, 4642, 18979, 548, 39459, 8747, 10795, 16949, 10820, 23114, 6740, 16990, 615, 2663, 23148, 4725, 637, 8837, 14982, 8842, 4748, 17044, 4757, 4761, 6812, 10922, 10927, 4786, 2744, 4799, 2752, 720, 8916, 2774, 8922, 2812, 8958, 4866, 29442, 13061, 23308, 11034, 798, 4896, 803, 807, 2876, 23358, 2884, 6982, 9030, 6990, 858, 11098, 11113, 2925, 2926, 11128, 7034, 7038, 9089, 2951, 27536, 7058, 5013, 7062, 17323, 21424, 956, 17350, 5062, 3014, 973, 5069, 978, 29651, 25554, 35799, 29673, 9198, 7150, 7153, 5118, 25624, 5153, 3113, 33844, 5178, 7235, 9289, 3146, 9292, 23631, 7251, 19546, 3163, 25706, 3181, 9325, 5235, 19576, 3192, 21625, 9342, 11391, 5249, 3207, 9366, 5272, 9372, 9374, 13471, 19622, 15526, 9382, 1201, 5299, 1204, 1215, 9413, 7368, 5347, 7396, 5360, 1265, 19699, 3319, 19720, 3341, 1296, 17684, 5396, 1302, 19735, 11550, 5413, 23848, 1320, 13609, 13616, 1329, 50482, 7497, 21834, 17739, 7508, 1365, 5470, 9568, 11616, 5476, 3428, 1386, 13677, 5487, 5492, 32122, 7550, 5505, 3457, 3477, 11676, 3490, 15779, 23973, 5542, 21930, 3503, 1463, 1467, 3523, 3536, 13779, 5594, 15845, 30183, 7660, 3564, 7665, 36348, 1541, 1542, 9737, 3601, 1555, 3619, 11813, 9769, 1583, 5680, 15921, 13871, 9784, 3642, 7747, 7758, 79446, 3673, 1636, 11881, 1649, 1651, 1655, 7802, 26234, 9867, 13964, 1680, 3729, 7827, 3759, 7861, 7866, 3776, 5836, 61133, 3796, 14038, 3801, 9947, 5867, 9967, 3828, 3829, 3836, 3837, 1789, 7932, 5898, 22288, 7955, 10009, 3871, 87841, 20262, 1831, 1859, 10052, 5956, 1873, 3923, 5972, 10070, 5977, 1884, 5983, 1904, 1907, 16244, 1909, 10101, 26490, 12159, 1924, 1930, 8081, 6042, 10141, 8093, 4022, 57271, 4028, 1985, 10191, 10199, 6108, 2023, 8170, 6132, 14331, 6143}\n",
      "Price -  {0, 1, 2, 3, 4, 5, 6, 7, 8, 9, 10, 11, 12, 13, 14, 15, 16, 17, 18, 19, 20, 21, 22, 23, 24, 25, 27, 28, 30, 32, 36, 39, 40, 42, 46, 52, 53, 54, 82, 105}\n",
      "Year -  {2016, 2017, 2018, 2019, 2009, 2010, 2011, 2012, 2013, 2014, 2015}\n",
      "Genre -  {'Fiction', 'Non Fiction'}\n"
     ]
    }
   ],
   "source": [
    "# Check for unique values are present in each variables to understand the datapoints\n",
    "print('Name - ',set(df['Name']))\n",
    "print('Author - ', set(df['Author']))\n",
    "print('User Rating - ', set(df['User Rating']))\n",
    "print('Reviews - ', set(df['Reviews']))\n",
    "print('Price - ', set(df['Price']))\n",
    "print('Year - ', set(df['Year']))\n",
    "print('Genre - ', set(df['Genre']))"
   ]
  },
  {
   "cell_type": "code",
   "execution_count": 13,
   "id": "210606c9",
   "metadata": {},
   "outputs": [
    {
     "name": "stdout",
     "output_type": "stream",
     "text": [
      "Name           0\n",
      "Author         0\n",
      "User Rating    0\n",
      "Reviews        0\n",
      "Price          0\n",
      "Year           0\n",
      "Genre          0\n",
      "dtype: int64\n"
     ]
    }
   ],
   "source": [
    "# Checking how many nullvalues are present in every feature of the dataset\n",
    "print(df.isnull().sum()) # total number of nullvalues of every feature"
   ]
  },
  {
   "cell_type": "markdown",
   "id": "e4fb790c",
   "metadata": {},
   "source": [
    "**************************\n",
    "************************\n",
    "# Observations :-\n",
    "\n",
    "* No null values seen in the dataset\n",
    "* We find that min price is zero and maximum parice as 150, there may be posiblity of outliers\n",
    "* There are 351 unique books and 248 unique authors\n",
    "* Total number of books are 65,74,305 and 2 genre - Friction and Non Friction\n",
    "***********************"
   ]
  },
  {
   "cell_type": "markdown",
   "id": "5054a273",
   "metadata": {},
   "source": [
    "**************************\n",
    "************************\n",
    "# Questions :-\n",
    "\n",
    "1. How many records are in the dataset?\n",
    "2. What is the distribution of book genres?\n",
    "3. Who are the top 5 authors with the most books in the dataset?\n",
    "4. What is the average rating of the books in the dataset?\n",
    "5. What is the average price of the books?\n",
    "6. What is the range of years in which the books were published?\n",
    "7. What are the top 5 most reviewed books?\n",
    "8. What is the distribution of book ratings?\n",
    "9. How many books have a rating greater than 4.5?\n",
    "10. What is the most common price range for books?\n",
    "11. What is the average number of reviews for books in each genre?\n",
    "12. How does the average price vary across different genres?\n",
    "13. What is the relationship between the number of reviews and the rating of books?\n",
    "14. What are the top 5 books with the highest ratings and the highest number of reviews?\n",
    "15. How has the number of bestseller books published per year changed over time?\n",
    "\n",
    "******************************\n",
    "************************"
   ]
  },
  {
   "cell_type": "markdown",
   "id": "6850f039",
   "metadata": {},
   "source": [
    "1. How many records are in the dataset?"
   ]
  },
  {
   "cell_type": "code",
   "execution_count": 14,
   "id": "a79522d5",
   "metadata": {},
   "outputs": [
    {
     "name": "stdout",
     "output_type": "stream",
     "text": [
      "(550, 7)\n"
     ]
    }
   ],
   "source": [
    "print(df.shape)"
   ]
  },
  {
   "cell_type": "code",
   "execution_count": 15,
   "id": "9b164308",
   "metadata": {},
   "outputs": [
    {
     "name": "stdout",
     "output_type": "stream",
     "text": [
      "There are  550 records in the dataset.\n"
     ]
    }
   ],
   "source": [
    "print('There are ', df['Name'].count(), 'records in the dataset.')"
   ]
  },
  {
   "cell_type": "markdown",
   "id": "491595ae",
   "metadata": {},
   "source": [
    "2. What is the distribution of book genres?"
   ]
  },
  {
   "cell_type": "code",
   "execution_count": 16,
   "id": "b27f7857",
   "metadata": {},
   "outputs": [],
   "source": [
    "df_genres=df.copy()"
   ]
  },
  {
   "cell_type": "code",
   "execution_count": 17,
   "id": "0449eba8",
   "metadata": {},
   "outputs": [
    {
     "data": {
      "text/html": [
       "<div>\n",
       "<style scoped>\n",
       "    .dataframe tbody tr th:only-of-type {\n",
       "        vertical-align: middle;\n",
       "    }\n",
       "\n",
       "    .dataframe tbody tr th {\n",
       "        vertical-align: top;\n",
       "    }\n",
       "\n",
       "    .dataframe thead th {\n",
       "        text-align: right;\n",
       "    }\n",
       "</style>\n",
       "<table border=\"1\" class=\"dataframe\">\n",
       "  <thead>\n",
       "    <tr style=\"text-align: right;\">\n",
       "      <th></th>\n",
       "      <th>Name</th>\n",
       "      <th>Author</th>\n",
       "      <th>User Rating</th>\n",
       "      <th>Reviews</th>\n",
       "      <th>Genre</th>\n",
       "    </tr>\n",
       "  </thead>\n",
       "  <tbody>\n",
       "    <tr>\n",
       "      <th>0</th>\n",
       "      <td>10-Day Green Smoothie Cleanse</td>\n",
       "      <td>JJ Smith</td>\n",
       "      <td>4.7</td>\n",
       "      <td>17350</td>\n",
       "      <td>Non Fiction</td>\n",
       "    </tr>\n",
       "    <tr>\n",
       "      <th>1</th>\n",
       "      <td>11/22/63: A Novel</td>\n",
       "      <td>Stephen King</td>\n",
       "      <td>4.6</td>\n",
       "      <td>2052</td>\n",
       "      <td>Fiction</td>\n",
       "    </tr>\n",
       "    <tr>\n",
       "      <th>2</th>\n",
       "      <td>12 Rules for Life: An Antidote to Chaos</td>\n",
       "      <td>Jordan B. Peterson</td>\n",
       "      <td>4.7</td>\n",
       "      <td>18979</td>\n",
       "      <td>Non Fiction</td>\n",
       "    </tr>\n",
       "    <tr>\n",
       "      <th>3</th>\n",
       "      <td>1984 (Signet Classics)</td>\n",
       "      <td>George Orwell</td>\n",
       "      <td>4.7</td>\n",
       "      <td>21424</td>\n",
       "      <td>Fiction</td>\n",
       "    </tr>\n",
       "    <tr>\n",
       "      <th>4</th>\n",
       "      <td>5,000 Awesome Facts (About Everything!) (Natio...</td>\n",
       "      <td>National Geographic Kids</td>\n",
       "      <td>4.8</td>\n",
       "      <td>7665</td>\n",
       "      <td>Non Fiction</td>\n",
       "    </tr>\n",
       "    <tr>\n",
       "      <th>...</th>\n",
       "      <td>...</td>\n",
       "      <td>...</td>\n",
       "      <td>...</td>\n",
       "      <td>...</td>\n",
       "      <td>...</td>\n",
       "    </tr>\n",
       "    <tr>\n",
       "      <th>538</th>\n",
       "      <td>Winter of the World: Book Two of the Century T...</td>\n",
       "      <td>Ken Follett</td>\n",
       "      <td>4.5</td>\n",
       "      <td>10760</td>\n",
       "      <td>Fiction</td>\n",
       "    </tr>\n",
       "    <tr>\n",
       "      <th>539</th>\n",
       "      <td>Women Food and God: An Unexpected Path to Almo...</td>\n",
       "      <td>Geneen Roth</td>\n",
       "      <td>4.2</td>\n",
       "      <td>1302</td>\n",
       "      <td>Non Fiction</td>\n",
       "    </tr>\n",
       "    <tr>\n",
       "      <th>540</th>\n",
       "      <td>Wonder</td>\n",
       "      <td>R. J. Palacio</td>\n",
       "      <td>4.8</td>\n",
       "      <td>21625</td>\n",
       "      <td>Fiction</td>\n",
       "    </tr>\n",
       "    <tr>\n",
       "      <th>545</th>\n",
       "      <td>Wrecking Ball (Diary of a Wimpy Kid Book 14)</td>\n",
       "      <td>Jeff Kinney</td>\n",
       "      <td>4.9</td>\n",
       "      <td>9413</td>\n",
       "      <td>Fiction</td>\n",
       "    </tr>\n",
       "    <tr>\n",
       "      <th>546</th>\n",
       "      <td>You Are a Badass: How to Stop Doubting Your Gr...</td>\n",
       "      <td>Jen Sincero</td>\n",
       "      <td>4.7</td>\n",
       "      <td>14331</td>\n",
       "      <td>Non Fiction</td>\n",
       "    </tr>\n",
       "  </tbody>\n",
       "</table>\n",
       "<p>352 rows × 5 columns</p>\n",
       "</div>"
      ],
      "text/plain": [
       "                                                  Name  \\\n",
       "0                        10-Day Green Smoothie Cleanse   \n",
       "1                                    11/22/63: A Novel   \n",
       "2              12 Rules for Life: An Antidote to Chaos   \n",
       "3                               1984 (Signet Classics)   \n",
       "4    5,000 Awesome Facts (About Everything!) (Natio...   \n",
       "..                                                 ...   \n",
       "538  Winter of the World: Book Two of the Century T...   \n",
       "539  Women Food and God: An Unexpected Path to Almo...   \n",
       "540                                             Wonder   \n",
       "545       Wrecking Ball (Diary of a Wimpy Kid Book 14)   \n",
       "546  You Are a Badass: How to Stop Doubting Your Gr...   \n",
       "\n",
       "                       Author  User Rating  Reviews        Genre  \n",
       "0                    JJ Smith          4.7    17350  Non Fiction  \n",
       "1                Stephen King          4.6     2052      Fiction  \n",
       "2          Jordan B. Peterson          4.7    18979  Non Fiction  \n",
       "3               George Orwell          4.7    21424      Fiction  \n",
       "4    National Geographic Kids          4.8     7665  Non Fiction  \n",
       "..                        ...          ...      ...          ...  \n",
       "538               Ken Follett          4.5    10760      Fiction  \n",
       "539               Geneen Roth          4.2     1302  Non Fiction  \n",
       "540             R. J. Palacio          4.8    21625      Fiction  \n",
       "545               Jeff Kinney          4.9     9413      Fiction  \n",
       "546               Jen Sincero          4.7    14331  Non Fiction  \n",
       "\n",
       "[352 rows x 5 columns]"
      ]
     },
     "execution_count": 17,
     "metadata": {},
     "output_type": "execute_result"
    }
   ],
   "source": [
    "#First drop the duplicate values from the data set\n",
    "df_genres_new=df_genres.drop(['Price','Year'], axis=1).drop_duplicates()\n",
    "df_genres_new"
   ]
  },
  {
   "cell_type": "code",
   "execution_count": 18,
   "id": "fbf6087c",
   "metadata": {},
   "outputs": [
    {
     "data": {
      "text/plain": [
       "array(['Non Fiction', 'Fiction'], dtype=object)"
      ]
     },
     "execution_count": 18,
     "metadata": {},
     "output_type": "execute_result"
    }
   ],
   "source": [
    "#Find how many unique values are in 'Genre' \n",
    "df_genres_new['Genre'].unique()"
   ]
  },
  {
   "cell_type": "code",
   "execution_count": 19,
   "id": "fd521f8d",
   "metadata": {},
   "outputs": [
    {
     "data": {
      "text/html": [
       "<div>\n",
       "<style scoped>\n",
       "    .dataframe tbody tr th:only-of-type {\n",
       "        vertical-align: middle;\n",
       "    }\n",
       "\n",
       "    .dataframe tbody tr th {\n",
       "        vertical-align: top;\n",
       "    }\n",
       "\n",
       "    .dataframe thead th {\n",
       "        text-align: right;\n",
       "    }\n",
       "</style>\n",
       "<table border=\"1\" class=\"dataframe\">\n",
       "  <thead>\n",
       "    <tr style=\"text-align: right;\">\n",
       "      <th></th>\n",
       "      <th>Genre</th>\n",
       "      <th>count</th>\n",
       "    </tr>\n",
       "  </thead>\n",
       "  <tbody>\n",
       "    <tr>\n",
       "      <th>0</th>\n",
       "      <td>Non Fiction</td>\n",
       "      <td>192</td>\n",
       "    </tr>\n",
       "    <tr>\n",
       "      <th>1</th>\n",
       "      <td>Fiction</td>\n",
       "      <td>160</td>\n",
       "    </tr>\n",
       "  </tbody>\n",
       "</table>\n",
       "</div>"
      ],
      "text/plain": [
       "         Genre  count\n",
       "0  Non Fiction    192\n",
       "1      Fiction    160"
      ]
     },
     "execution_count": 19,
     "metadata": {},
     "output_type": "execute_result"
    }
   ],
   "source": [
    "#Find the count for each genre\n",
    "df_genres_new = df_genres_new['Genre'].value_counts().reset_index()\n",
    "df_genres_new"
   ]
  },
  {
   "cell_type": "code",
   "execution_count": 20,
   "id": "5f507c91",
   "metadata": {},
   "outputs": [
    {
     "data": {
      "image/png": "[encoded data removed]",
      "text/plain": [
       "<Figure size 432x288 with 1 Axes>"
      ]
     },
     "metadata": {
      "needs_background": "light"
     },
     "output_type": "display_data"
    }
   ],
   "source": [
    "#Lets plot it in a graph\n",
    "sns.countplot(data = df_genres_new, x = df_genres_new['Genre'])\n",
    "plt.title('Distribution of Book Genres')\n",
    "plt.show()"
   ]
  },
  {
   "cell_type": "code",
   "execution_count": 21,
   "id": "8518ab83",
   "metadata": {},
   "outputs": [
    {
     "data": {
      "image/png": "[encoded data removed]",
      "text/plain": [
       "<Figure size 864x432 with 1 Axes>"
      ]
     },
     "metadata": {},
     "output_type": "display_data"
    }
   ],
   "source": [
    "plt.figure(figsize=(12,6))\n",
    "\n",
    "myexplode = [0.2, 0]\n",
    "plt.pie(df_genres_new['count'], labels=df_genres_new['Genre'], autopct = '%0.2f%%',startangle = 90, explode = myexplode)\n",
    "\n",
    "plt.title('Distribution of Book Genres')\n",
    "plt.tight_layout()\n",
    "plt.show()"
   ]
  },
  {
   "cell_type": "markdown",
   "id": "faf1dd8e",
   "metadata": {},
   "source": [
    "3. Who are the top 5 authors with the most books in the dataset?"
   ]
  },
  {
   "cell_type": "code",
   "execution_count": 22,
   "id": "ce52dd04",
   "metadata": {},
   "outputs": [],
   "source": [
    "df_author=df.copy()"
   ]
  },
  {
   "cell_type": "code",
   "execution_count": 23,
   "id": "2ff839c2",
   "metadata": {},
   "outputs": [
    {
     "data": {
      "text/html": [
       "<div>\n",
       "<style scoped>\n",
       "    .dataframe tbody tr th:only-of-type {\n",
       "        vertical-align: middle;\n",
       "    }\n",
       "\n",
       "    .dataframe tbody tr th {\n",
       "        vertical-align: top;\n",
       "    }\n",
       "\n",
       "    .dataframe thead th {\n",
       "        text-align: right;\n",
       "    }\n",
       "</style>\n",
       "<table border=\"1\" class=\"dataframe\">\n",
       "  <thead>\n",
       "    <tr style=\"text-align: right;\">\n",
       "      <th></th>\n",
       "      <th>Name</th>\n",
       "      <th>Author</th>\n",
       "      <th>User Rating</th>\n",
       "      <th>Reviews</th>\n",
       "      <th>Genre</th>\n",
       "    </tr>\n",
       "  </thead>\n",
       "  <tbody>\n",
       "    <tr>\n",
       "      <th>0</th>\n",
       "      <td>10-Day Green Smoothie Cleanse</td>\n",
       "      <td>JJ Smith</td>\n",
       "      <td>4.7</td>\n",
       "      <td>17350</td>\n",
       "      <td>Non Fiction</td>\n",
       "    </tr>\n",
       "    <tr>\n",
       "      <th>1</th>\n",
       "      <td>11/22/63: A Novel</td>\n",
       "      <td>Stephen King</td>\n",
       "      <td>4.6</td>\n",
       "      <td>2052</td>\n",
       "      <td>Fiction</td>\n",
       "    </tr>\n",
       "    <tr>\n",
       "      <th>2</th>\n",
       "      <td>12 Rules for Life: An Antidote to Chaos</td>\n",
       "      <td>Jordan B. Peterson</td>\n",
       "      <td>4.7</td>\n",
       "      <td>18979</td>\n",
       "      <td>Non Fiction</td>\n",
       "    </tr>\n",
       "    <tr>\n",
       "      <th>3</th>\n",
       "      <td>1984 (Signet Classics)</td>\n",
       "      <td>George Orwell</td>\n",
       "      <td>4.7</td>\n",
       "      <td>21424</td>\n",
       "      <td>Fiction</td>\n",
       "    </tr>\n",
       "    <tr>\n",
       "      <th>4</th>\n",
       "      <td>5,000 Awesome Facts (About Everything!) (Natio...</td>\n",
       "      <td>National Geographic Kids</td>\n",
       "      <td>4.8</td>\n",
       "      <td>7665</td>\n",
       "      <td>Non Fiction</td>\n",
       "    </tr>\n",
       "    <tr>\n",
       "      <th>...</th>\n",
       "      <td>...</td>\n",
       "      <td>...</td>\n",
       "      <td>...</td>\n",
       "      <td>...</td>\n",
       "      <td>...</td>\n",
       "    </tr>\n",
       "    <tr>\n",
       "      <th>538</th>\n",
       "      <td>Winter of the World: Book Two of the Century T...</td>\n",
       "      <td>Ken Follett</td>\n",
       "      <td>4.5</td>\n",
       "      <td>10760</td>\n",
       "      <td>Fiction</td>\n",
       "    </tr>\n",
       "    <tr>\n",
       "      <th>539</th>\n",
       "      <td>Women Food and God: An Unexpected Path to Almo...</td>\n",
       "      <td>Geneen Roth</td>\n",
       "      <td>4.2</td>\n",
       "      <td>1302</td>\n",
       "      <td>Non Fiction</td>\n",
       "    </tr>\n",
       "    <tr>\n",
       "      <th>540</th>\n",
       "      <td>Wonder</td>\n",
       "      <td>R. J. Palacio</td>\n",
       "      <td>4.8</td>\n",
       "      <td>21625</td>\n",
       "      <td>Fiction</td>\n",
       "    </tr>\n",
       "    <tr>\n",
       "      <th>545</th>\n",
       "      <td>Wrecking Ball (Diary of a Wimpy Kid Book 14)</td>\n",
       "      <td>Jeff Kinney</td>\n",
       "      <td>4.9</td>\n",
       "      <td>9413</td>\n",
       "      <td>Fiction</td>\n",
       "    </tr>\n",
       "    <tr>\n",
       "      <th>546</th>\n",
       "      <td>You Are a Badass: How to Stop Doubting Your Gr...</td>\n",
       "      <td>Jen Sincero</td>\n",
       "      <td>4.7</td>\n",
       "      <td>14331</td>\n",
       "      <td>Non Fiction</td>\n",
       "    </tr>\n",
       "  </tbody>\n",
       "</table>\n",
       "<p>352 rows × 5 columns</p>\n",
       "</div>"
      ],
      "text/plain": [
       "                                                  Name  \\\n",
       "0                        10-Day Green Smoothie Cleanse   \n",
       "1                                    11/22/63: A Novel   \n",
       "2              12 Rules for Life: An Antidote to Chaos   \n",
       "3                               1984 (Signet Classics)   \n",
       "4    5,000 Awesome Facts (About Everything!) (Natio...   \n",
       "..                                                 ...   \n",
       "538  Winter of the World: Book Two of the Century T...   \n",
       "539  Women Food and God: An Unexpected Path to Almo...   \n",
       "540                                             Wonder   \n",
       "545       Wrecking Ball (Diary of a Wimpy Kid Book 14)   \n",
       "546  You Are a Badass: How to Stop Doubting Your Gr...   \n",
       "\n",
       "                       Author  User Rating  Reviews        Genre  \n",
       "0                    JJ Smith          4.7    17350  Non Fiction  \n",
       "1                Stephen King          4.6     2052      Fiction  \n",
       "2          Jordan B. Peterson          4.7    18979  Non Fiction  \n",
       "3               George Orwell          4.7    21424      Fiction  \n",
       "4    National Geographic Kids          4.8     7665  Non Fiction  \n",
       "..                        ...          ...      ...          ...  \n",
       "538               Ken Follett          4.5    10760      Fiction  \n",
       "539               Geneen Roth          4.2     1302  Non Fiction  \n",
       "540             R. J. Palacio          4.8    21625      Fiction  \n",
       "545               Jeff Kinney          4.9     9413      Fiction  \n",
       "546               Jen Sincero          4.7    14331  Non Fiction  \n",
       "\n",
       "[352 rows x 5 columns]"
      ]
     },
     "execution_count": 23,
     "metadata": {},
     "output_type": "execute_result"
    }
   ],
   "source": [
    "#First drop the duplicate values from the data set\n",
    "df_author_new=df_author.drop(['Price','Year'], axis=1).drop_duplicates()\n",
    "df_author_new"
   ]
  },
  {
   "cell_type": "code",
   "execution_count": 24,
   "id": "6da3cd58",
   "metadata": {},
   "outputs": [
    {
     "data": {
      "text/html": [
       "<div>\n",
       "<style scoped>\n",
       "    .dataframe tbody tr th:only-of-type {\n",
       "        vertical-align: middle;\n",
       "    }\n",
       "\n",
       "    .dataframe tbody tr th {\n",
       "        vertical-align: top;\n",
       "    }\n",
       "\n",
       "    .dataframe thead th {\n",
       "        text-align: right;\n",
       "    }\n",
       "</style>\n",
       "<table border=\"1\" class=\"dataframe\">\n",
       "  <thead>\n",
       "    <tr style=\"text-align: right;\">\n",
       "      <th></th>\n",
       "      <th>Author</th>\n",
       "      <th>count</th>\n",
       "    </tr>\n",
       "  </thead>\n",
       "  <tbody>\n",
       "    <tr>\n",
       "      <th>0</th>\n",
       "      <td>Jeff Kinney</td>\n",
       "      <td>12</td>\n",
       "    </tr>\n",
       "    <tr>\n",
       "      <th>1</th>\n",
       "      <td>Rick Riordan</td>\n",
       "      <td>10</td>\n",
       "    </tr>\n",
       "    <tr>\n",
       "      <th>2</th>\n",
       "      <td>Stephenie Meyer</td>\n",
       "      <td>7</td>\n",
       "    </tr>\n",
       "    <tr>\n",
       "      <th>3</th>\n",
       "      <td>Bill O'Reilly</td>\n",
       "      <td>6</td>\n",
       "    </tr>\n",
       "    <tr>\n",
       "      <th>4</th>\n",
       "      <td>Dav Pilkey</td>\n",
       "      <td>6</td>\n",
       "    </tr>\n",
       "    <tr>\n",
       "      <th>...</th>\n",
       "      <td>...</td>\n",
       "      <td>...</td>\n",
       "    </tr>\n",
       "    <tr>\n",
       "      <th>243</th>\n",
       "      <td>Eric Larson</td>\n",
       "      <td>1</td>\n",
       "    </tr>\n",
       "    <tr>\n",
       "      <th>244</th>\n",
       "      <td>Christopher Paolini</td>\n",
       "      <td>1</td>\n",
       "    </tr>\n",
       "    <tr>\n",
       "      <th>245</th>\n",
       "      <td>Jennifer Smith</td>\n",
       "      <td>1</td>\n",
       "    </tr>\n",
       "    <tr>\n",
       "      <th>246</th>\n",
       "      <td>Sarah Young</td>\n",
       "      <td>1</td>\n",
       "    </tr>\n",
       "    <tr>\n",
       "      <th>247</th>\n",
       "      <td>Jen Sincero</td>\n",
       "      <td>1</td>\n",
       "    </tr>\n",
       "  </tbody>\n",
       "</table>\n",
       "<p>248 rows × 2 columns</p>\n",
       "</div>"
      ],
      "text/plain": [
       "                  Author  count\n",
       "0            Jeff Kinney     12\n",
       "1           Rick Riordan     10\n",
       "2        Stephenie Meyer      7\n",
       "3          Bill O'Reilly      6\n",
       "4             Dav Pilkey      6\n",
       "..                   ...    ...\n",
       "243          Eric Larson      1\n",
       "244  Christopher Paolini      1\n",
       "245       Jennifer Smith      1\n",
       "246          Sarah Young      1\n",
       "247          Jen Sincero      1\n",
       "\n",
       "[248 rows x 2 columns]"
      ]
     },
     "execution_count": 24,
     "metadata": {},
     "output_type": "execute_result"
    }
   ],
   "source": [
    "# Group by 'Author' and count the number of books for each author\n",
    "author_counts = df_author_new['Author'].value_counts().reset_index()\n",
    "author_counts"
   ]
  },
  {
   "cell_type": "code",
   "execution_count": 25,
   "id": "3bc91f33",
   "metadata": {},
   "outputs": [
    {
     "data": {
      "text/html": [
       "<div>\n",
       "<style scoped>\n",
       "    .dataframe tbody tr th:only-of-type {\n",
       "        vertical-align: middle;\n",
       "    }\n",
       "\n",
       "    .dataframe tbody tr th {\n",
       "        vertical-align: top;\n",
       "    }\n",
       "\n",
       "    .dataframe thead th {\n",
       "        text-align: right;\n",
       "    }\n",
       "</style>\n",
       "<table border=\"1\" class=\"dataframe\">\n",
       "  <thead>\n",
       "    <tr style=\"text-align: right;\">\n",
       "      <th></th>\n",
       "      <th>Author</th>\n",
       "      <th>count</th>\n",
       "    </tr>\n",
       "  </thead>\n",
       "  <tbody>\n",
       "    <tr>\n",
       "      <th>0</th>\n",
       "      <td>Jeff Kinney</td>\n",
       "      <td>12</td>\n",
       "    </tr>\n",
       "    <tr>\n",
       "      <th>1</th>\n",
       "      <td>Rick Riordan</td>\n",
       "      <td>10</td>\n",
       "    </tr>\n",
       "    <tr>\n",
       "      <th>2</th>\n",
       "      <td>Stephenie Meyer</td>\n",
       "      <td>7</td>\n",
       "    </tr>\n",
       "    <tr>\n",
       "      <th>3</th>\n",
       "      <td>Bill O'Reilly</td>\n",
       "      <td>6</td>\n",
       "    </tr>\n",
       "    <tr>\n",
       "      <th>4</th>\n",
       "      <td>Dav Pilkey</td>\n",
       "      <td>6</td>\n",
       "    </tr>\n",
       "  </tbody>\n",
       "</table>\n",
       "</div>"
      ],
      "text/plain": [
       "            Author  count\n",
       "0      Jeff Kinney     12\n",
       "1     Rick Riordan     10\n",
       "2  Stephenie Meyer      7\n",
       "3    Bill O'Reilly      6\n",
       "4       Dav Pilkey      6"
      ]
     },
     "execution_count": 25,
     "metadata": {},
     "output_type": "execute_result"
    }
   ],
   "source": [
    "# Get the top 5 authors with the most books\n",
    "top_5_authors = author_counts.head(5)\n",
    "top_5_authors"
   ]
  },
  {
   "cell_type": "code",
   "execution_count": 26,
   "id": "018ede10",
   "metadata": {},
   "outputs": [
    {
     "data": {
      "image/png": "[encoded data removed]",
      "text/plain": [
       "<Figure size 720x432 with 1 Axes>"
      ]
     },
     "metadata": {},
     "output_type": "display_data"
    }
   ],
   "source": [
    "# Plot using matplotlib\n",
    "plt.figure(figsize=(10, 6))\n",
    "plt.pie(top_5_authors['count'], labels=top_5_authors['Author'], autopct = '%0.2f%%',startangle = 90)\n",
    "plt.title('Top 5 Authors with Most Books')\n",
    "plt.xticks(rotation=45)\n",
    "plt.show()"
   ]
  },
  {
   "cell_type": "markdown",
   "id": "953ad286",
   "metadata": {},
   "source": [
    "4. What is the average rating of the books in the dataset?"
   ]
  },
  {
   "cell_type": "code",
   "execution_count": 27,
   "id": "0365b1d9",
   "metadata": {},
   "outputs": [
    {
     "name": "stdout",
     "output_type": "stream",
     "text": [
      "The average rating of the books in the dataset :  4.618\n"
     ]
    }
   ],
   "source": [
    "# Calculate the average rating\n",
    "average_rating = df['User Rating'].mean()\n",
    "print('The average rating of the books in the dataset : ', round(average_rating,3))"
   ]
  },
  {
   "cell_type": "markdown",
   "id": "4b9dc6d0",
   "metadata": {},
   "source": [
    "5. What is the average price of the books?"
   ]
  },
  {
   "cell_type": "code",
   "execution_count": 28,
   "id": "5ef69259",
   "metadata": {},
   "outputs": [],
   "source": [
    "df_price=df.copy()"
   ]
  },
  {
   "cell_type": "code",
   "execution_count": 29,
   "id": "59da37cb",
   "metadata": {},
   "outputs": [
    {
     "data": {
      "text/plain": [
       "count    550.000000\n",
       "mean      13.100000\n",
       "std       10.842262\n",
       "min        0.000000\n",
       "25%        7.000000\n",
       "50%       11.000000\n",
       "75%       16.000000\n",
       "max      105.000000\n",
       "Name: Price, dtype: float64"
      ]
     },
     "execution_count": 29,
     "metadata": {},
     "output_type": "execute_result"
    }
   ],
   "source": [
    "df_price['Price'].describe()"
   ]
  },
  {
   "cell_type": "code",
   "execution_count": 30,
   "id": "5c92cc8f",
   "metadata": {},
   "outputs": [
    {
     "name": "stdout",
     "output_type": "stream",
     "text": [
      "The average price of the books in the dataset :  13.1\n"
     ]
    }
   ],
   "source": [
    "#Average_price before treating outliers\n",
    "average_price = df_price['Price'].mean()\n",
    "print('The average price of the books in the dataset : ', round(average_price,3))"
   ]
  },
  {
   "cell_type": "markdown",
   "id": "6d3d1cbb",
   "metadata": {},
   "source": [
    "* Lets address the outliers in variable price"
   ]
  },
  {
   "cell_type": "code",
   "execution_count": 31,
   "id": "4c375199",
   "metadata": {},
   "outputs": [
    {
     "name": "stdout",
     "output_type": "stream",
     "text": [
      "0\n"
     ]
    }
   ],
   "source": [
    "print(df_price['Price'].min())"
   ]
  },
  {
   "cell_type": "code",
   "execution_count": 32,
   "id": "c9da8656",
   "metadata": {},
   "outputs": [
    {
     "name": "stdout",
     "output_type": "stream",
     "text": [
      "105\n"
     ]
    }
   ],
   "source": [
    "print(df_price['Price'].max())"
   ]
  },
  {
   "cell_type": "code",
   "execution_count": 33,
   "id": "3fd340d6",
   "metadata": {},
   "outputs": [
    {
     "data": {
      "image/png": "[encoded data removed]",
      "text/plain": [
       "<Figure size 432x288 with 1 Axes>"
      ]
     },
     "metadata": {
      "needs_background": "light"
     },
     "output_type": "display_data"
    }
   ],
   "source": [
    "#here we can find the outliers\n",
    "sns.boxplot(x=df_price['Price'])\n",
    "plt.show()"
   ]
  },
  {
   "cell_type": "markdown",
   "id": "5b81ff71",
   "metadata": {},
   "source": [
    "While studying the boxplot we can spot some outliers in variable price so we need to use IQR Technique to deal with the outilers\n",
    "\n",
    "*********\n",
    "*********\n",
    "Using IQR Technique"
   ]
  },
  {
   "cell_type": "code",
   "execution_count": 34,
   "id": "c48f2d4d",
   "metadata": {},
   "outputs": [],
   "source": [
    "def iqr(DFcolumns):\n",
    "        Q1 = np.percentile(DFcolumns, 25) #identify first quartile\n",
    "        Q3 = np.percentile(DFcolumns, 75) #identfy third quartile\n",
    "        \n",
    "        IQR = Q3-Q1\n",
    "        \n",
    "        lower_range = Q1 - (1.5 * IQR)\n",
    "        upper_range = Q3 + (1.5 * IQR)\n",
    "        \n",
    "        return lower_range, upper_range"
   ]
  },
  {
   "cell_type": "code",
   "execution_count": 35,
   "id": "adfac0da",
   "metadata": {},
   "outputs": [],
   "source": [
    "lower_range,upper_range = iqr(df_price['Price'])\n",
    "df_price = df_price[(df_price.Price > lower_range) & (df_price.Price < upper_range)]"
   ]
  },
  {
   "cell_type": "code",
   "execution_count": 36,
   "id": "2273f5ed",
   "metadata": {},
   "outputs": [
    {
     "name": "stdout",
     "output_type": "stream",
     "text": [
      "(519, 7)\n"
     ]
    },
    {
     "data": {
      "image/png": "[encoded data removed]",
      "text/plain": [
       "<Figure size 432x288 with 1 Axes>"
      ]
     },
     "metadata": {
      "needs_background": "light"
     },
     "output_type": "display_data"
    }
   ],
   "source": [
    "sns.boxplot(x=df_price['Price'])\n",
    "print(df_price.shape)"
   ]
  },
  {
   "cell_type": "code",
   "execution_count": 37,
   "id": "c23e4142",
   "metadata": {},
   "outputs": [
    {
     "name": "stdout",
     "output_type": "stream",
     "text": [
      "0\n"
     ]
    }
   ],
   "source": [
    "print(df_price['Price'].min())"
   ]
  },
  {
   "cell_type": "code",
   "execution_count": 38,
   "id": "576f614d",
   "metadata": {},
   "outputs": [
    {
     "name": "stdout",
     "output_type": "stream",
     "text": [
      "28\n"
     ]
    }
   ],
   "source": [
    "print(df_price['Price'].max())"
   ]
  },
  {
   "cell_type": "code",
   "execution_count": 39,
   "id": "aea77db7",
   "metadata": {},
   "outputs": [
    {
     "name": "stdout",
     "output_type": "stream",
     "text": [
      "The average price of the books in the dataset :  11.104\n"
     ]
    }
   ],
   "source": [
    "#Average_price after treating outliers\n",
    "average_price = df_price['Price'].mean()\n",
    "print('The average price of the books in the dataset : ', round(average_price,3))"
   ]
  },
  {
   "cell_type": "markdown",
   "id": "0d36bb51",
   "metadata": {},
   "source": [
    "6. What is the range of years in which the books were published?\n"
   ]
  },
  {
   "cell_type": "code",
   "execution_count": 40,
   "id": "47c863cd",
   "metadata": {},
   "outputs": [
    {
     "name": "stdout",
     "output_type": "stream",
     "text": [
      "The range of year id from  2009 to  2019 in which books are published.\n"
     ]
    }
   ],
   "source": [
    "print(f'The range of year id from ', df['Year'].min(), 'to ', df['Year'].max(), 'in which books are published.')"
   ]
  },
  {
   "cell_type": "markdown",
   "id": "4f59ee6c",
   "metadata": {},
   "source": [
    "7. What are the top 5 most reviewed books?"
   ]
  },
  {
   "cell_type": "code",
   "execution_count": 41,
   "id": "63480d10",
   "metadata": {},
   "outputs": [
    {
     "data": {
      "text/html": [
       "<div>\n",
       "<style scoped>\n",
       "    .dataframe tbody tr th:only-of-type {\n",
       "        vertical-align: middle;\n",
       "    }\n",
       "\n",
       "    .dataframe tbody tr th {\n",
       "        vertical-align: top;\n",
       "    }\n",
       "\n",
       "    .dataframe thead th {\n",
       "        text-align: right;\n",
       "    }\n",
       "</style>\n",
       "<table border=\"1\" class=\"dataframe\">\n",
       "  <thead>\n",
       "    <tr style=\"text-align: right;\">\n",
       "      <th></th>\n",
       "      <th>Name</th>\n",
       "      <th>Reviews</th>\n",
       "    </tr>\n",
       "  </thead>\n",
       "  <tbody>\n",
       "    <tr>\n",
       "      <th>0</th>\n",
       "      <td>The Fault in Our Stars</td>\n",
       "      <td>201928</td>\n",
       "    </tr>\n",
       "    <tr>\n",
       "      <th>1</th>\n",
       "      <td>Oh, the Places You'll Go!</td>\n",
       "      <td>174672</td>\n",
       "    </tr>\n",
       "    <tr>\n",
       "      <th>2</th>\n",
       "      <td>Gone Girl</td>\n",
       "      <td>171813</td>\n",
       "    </tr>\n",
       "    <tr>\n",
       "      <th>3</th>\n",
       "      <td>The Girl on the Train</td>\n",
       "      <td>158892</td>\n",
       "    </tr>\n",
       "    <tr>\n",
       "      <th>4</th>\n",
       "      <td>Unbroken: A World War II Story of Survival, Re...</td>\n",
       "      <td>148365</td>\n",
       "    </tr>\n",
       "  </tbody>\n",
       "</table>\n",
       "</div>"
      ],
      "text/plain": [
       "                                                Name  Reviews\n",
       "0                             The Fault in Our Stars   201928\n",
       "1                          Oh, the Places You'll Go!   174672\n",
       "2                                          Gone Girl   171813\n",
       "3                              The Girl on the Train   158892\n",
       "4  Unbroken: A World War II Story of Survival, Re...   148365"
      ]
     },
     "execution_count": 41,
     "metadata": {},
     "output_type": "execute_result"
    }
   ],
   "source": [
    "top5 = df.groupby('Name')['Reviews'].sum().sort_values(ascending=False).head(5).reset_index()\n",
    "top5"
   ]
  },
  {
   "cell_type": "code",
   "execution_count": 42,
   "id": "e71cbb89",
   "metadata": {},
   "outputs": [
    {
     "data": {
      "image/png": "[encoded data removed]",
      "text/plain": [
       "<Figure size 864x432 with 1 Axes>"
      ]
     },
     "metadata": {
      "needs_background": "light"
     },
     "output_type": "display_data"
    }
   ],
   "source": [
    "plt.figure(figsize=(12, 6))\n",
    "sns.barplot(data=top5, x='Name', y='Reviews')\n",
    "plt.title('The top 5 most reviewed books')\n",
    "plt.show()"
   ]
  },
  {
   "cell_type": "markdown",
   "id": "88c7876c",
   "metadata": {},
   "source": [
    "8. What is the distribution of book ratings?\n"
   ]
  },
  {
   "cell_type": "code",
   "execution_count": 43,
   "id": "4dd897f6",
   "metadata": {},
   "outputs": [
    {
     "data": {
      "text/html": [
       "<div>\n",
       "<style scoped>\n",
       "    .dataframe tbody tr th:only-of-type {\n",
       "        vertical-align: middle;\n",
       "    }\n",
       "\n",
       "    .dataframe tbody tr th {\n",
       "        vertical-align: top;\n",
       "    }\n",
       "\n",
       "    .dataframe thead th {\n",
       "        text-align: right;\n",
       "    }\n",
       "</style>\n",
       "<table border=\"1\" class=\"dataframe\">\n",
       "  <thead>\n",
       "    <tr style=\"text-align: right;\">\n",
       "      <th></th>\n",
       "      <th>User Rating</th>\n",
       "      <th>count</th>\n",
       "    </tr>\n",
       "  </thead>\n",
       "  <tbody>\n",
       "    <tr>\n",
       "      <th>0</th>\n",
       "      <td>4.8</td>\n",
       "      <td>127</td>\n",
       "    </tr>\n",
       "    <tr>\n",
       "      <th>1</th>\n",
       "      <td>4.7</td>\n",
       "      <td>108</td>\n",
       "    </tr>\n",
       "    <tr>\n",
       "      <th>2</th>\n",
       "      <td>4.6</td>\n",
       "      <td>105</td>\n",
       "    </tr>\n",
       "    <tr>\n",
       "      <th>3</th>\n",
       "      <td>4.5</td>\n",
       "      <td>60</td>\n",
       "    </tr>\n",
       "    <tr>\n",
       "      <th>4</th>\n",
       "      <td>4.9</td>\n",
       "      <td>52</td>\n",
       "    </tr>\n",
       "    <tr>\n",
       "      <th>5</th>\n",
       "      <td>4.4</td>\n",
       "      <td>38</td>\n",
       "    </tr>\n",
       "    <tr>\n",
       "      <th>6</th>\n",
       "      <td>4.3</td>\n",
       "      <td>25</td>\n",
       "    </tr>\n",
       "    <tr>\n",
       "      <th>7</th>\n",
       "      <td>4.0</td>\n",
       "      <td>14</td>\n",
       "    </tr>\n",
       "    <tr>\n",
       "      <th>8</th>\n",
       "      <td>4.2</td>\n",
       "      <td>8</td>\n",
       "    </tr>\n",
       "    <tr>\n",
       "      <th>9</th>\n",
       "      <td>4.1</td>\n",
       "      <td>6</td>\n",
       "    </tr>\n",
       "    <tr>\n",
       "      <th>10</th>\n",
       "      <td>3.9</td>\n",
       "      <td>3</td>\n",
       "    </tr>\n",
       "    <tr>\n",
       "      <th>11</th>\n",
       "      <td>3.8</td>\n",
       "      <td>2</td>\n",
       "    </tr>\n",
       "    <tr>\n",
       "      <th>12</th>\n",
       "      <td>3.6</td>\n",
       "      <td>1</td>\n",
       "    </tr>\n",
       "    <tr>\n",
       "      <th>13</th>\n",
       "      <td>3.3</td>\n",
       "      <td>1</td>\n",
       "    </tr>\n",
       "  </tbody>\n",
       "</table>\n",
       "</div>"
      ],
      "text/plain": [
       "    User Rating  count\n",
       "0           4.8    127\n",
       "1           4.7    108\n",
       "2           4.6    105\n",
       "3           4.5     60\n",
       "4           4.9     52\n",
       "5           4.4     38\n",
       "6           4.3     25\n",
       "7           4.0     14\n",
       "8           4.2      8\n",
       "9           4.1      6\n",
       "10          3.9      3\n",
       "11          3.8      2\n",
       "12          3.6      1\n",
       "13          3.3      1"
      ]
     },
     "execution_count": 43,
     "metadata": {},
     "output_type": "execute_result"
    }
   ],
   "source": [
    "rating = df['User Rating'].value_counts().reset_index()\n",
    "rating"
   ]
  },
  {
   "cell_type": "code",
   "execution_count": 44,
   "id": "95ec2f7b",
   "metadata": {},
   "outputs": [
    {
     "data": {
      "image/png": "[encoded data removed]",
      "text/plain": [
       "<Figure size 864x432 with 1 Axes>"
      ]
     },
     "metadata": {
      "needs_background": "light"
     },
     "output_type": "display_data"
    }
   ],
   "source": [
    "plt.figure(figsize=(12, 6))\n",
    "sns.barplot(data=rating,x='User Rating', y='count')\n",
    "plt.title(' The distribution of book ratings')\n",
    "plt.show()"
   ]
  },
  {
   "cell_type": "markdown",
   "id": "8faa356a",
   "metadata": {},
   "source": [
    "9. How many books have a rating greater than 4.5?\n"
   ]
  },
  {
   "cell_type": "code",
   "execution_count": 45,
   "id": "116f8899",
   "metadata": {},
   "outputs": [
    {
     "data": {
      "text/html": [
       "<div>\n",
       "<style scoped>\n",
       "    .dataframe tbody tr th:only-of-type {\n",
       "        vertical-align: middle;\n",
       "    }\n",
       "\n",
       "    .dataframe tbody tr th {\n",
       "        vertical-align: top;\n",
       "    }\n",
       "\n",
       "    .dataframe thead th {\n",
       "        text-align: right;\n",
       "    }\n",
       "</style>\n",
       "<table border=\"1\" class=\"dataframe\">\n",
       "  <thead>\n",
       "    <tr style=\"text-align: right;\">\n",
       "      <th></th>\n",
       "      <th>Name</th>\n",
       "      <th>Author</th>\n",
       "      <th>User Rating</th>\n",
       "      <th>Reviews</th>\n",
       "      <th>Price</th>\n",
       "      <th>Year</th>\n",
       "      <th>Genre</th>\n",
       "    </tr>\n",
       "  </thead>\n",
       "  <tbody>\n",
       "    <tr>\n",
       "      <th>0</th>\n",
       "      <td>10-Day Green Smoothie Cleanse</td>\n",
       "      <td>JJ Smith</td>\n",
       "      <td>4.7</td>\n",
       "      <td>17350</td>\n",
       "      <td>8</td>\n",
       "      <td>2016</td>\n",
       "      <td>Non Fiction</td>\n",
       "    </tr>\n",
       "    <tr>\n",
       "      <th>1</th>\n",
       "      <td>11/22/63: A Novel</td>\n",
       "      <td>Stephen King</td>\n",
       "      <td>4.6</td>\n",
       "      <td>2052</td>\n",
       "      <td>22</td>\n",
       "      <td>2011</td>\n",
       "      <td>Fiction</td>\n",
       "    </tr>\n",
       "    <tr>\n",
       "      <th>2</th>\n",
       "      <td>12 Rules for Life: An Antidote to Chaos</td>\n",
       "      <td>Jordan B. Peterson</td>\n",
       "      <td>4.7</td>\n",
       "      <td>18979</td>\n",
       "      <td>15</td>\n",
       "      <td>2018</td>\n",
       "      <td>Non Fiction</td>\n",
       "    </tr>\n",
       "    <tr>\n",
       "      <th>3</th>\n",
       "      <td>1984 (Signet Classics)</td>\n",
       "      <td>George Orwell</td>\n",
       "      <td>4.7</td>\n",
       "      <td>21424</td>\n",
       "      <td>6</td>\n",
       "      <td>2017</td>\n",
       "      <td>Fiction</td>\n",
       "    </tr>\n",
       "    <tr>\n",
       "      <th>4</th>\n",
       "      <td>5,000 Awesome Facts (About Everything!) (Natio...</td>\n",
       "      <td>National Geographic Kids</td>\n",
       "      <td>4.8</td>\n",
       "      <td>7665</td>\n",
       "      <td>12</td>\n",
       "      <td>2019</td>\n",
       "      <td>Non Fiction</td>\n",
       "    </tr>\n",
       "    <tr>\n",
       "      <th>...</th>\n",
       "      <td>...</td>\n",
       "      <td>...</td>\n",
       "      <td>...</td>\n",
       "      <td>...</td>\n",
       "      <td>...</td>\n",
       "      <td>...</td>\n",
       "      <td>...</td>\n",
       "    </tr>\n",
       "    <tr>\n",
       "      <th>545</th>\n",
       "      <td>Wrecking Ball (Diary of a Wimpy Kid Book 14)</td>\n",
       "      <td>Jeff Kinney</td>\n",
       "      <td>4.9</td>\n",
       "      <td>9413</td>\n",
       "      <td>8</td>\n",
       "      <td>2019</td>\n",
       "      <td>Fiction</td>\n",
       "    </tr>\n",
       "    <tr>\n",
       "      <th>546</th>\n",
       "      <td>You Are a Badass: How to Stop Doubting Your Gr...</td>\n",
       "      <td>Jen Sincero</td>\n",
       "      <td>4.7</td>\n",
       "      <td>14331</td>\n",
       "      <td>8</td>\n",
       "      <td>2016</td>\n",
       "      <td>Non Fiction</td>\n",
       "    </tr>\n",
       "    <tr>\n",
       "      <th>547</th>\n",
       "      <td>You Are a Badass: How to Stop Doubting Your Gr...</td>\n",
       "      <td>Jen Sincero</td>\n",
       "      <td>4.7</td>\n",
       "      <td>14331</td>\n",
       "      <td>8</td>\n",
       "      <td>2017</td>\n",
       "      <td>Non Fiction</td>\n",
       "    </tr>\n",
       "    <tr>\n",
       "      <th>548</th>\n",
       "      <td>You Are a Badass: How to Stop Doubting Your Gr...</td>\n",
       "      <td>Jen Sincero</td>\n",
       "      <td>4.7</td>\n",
       "      <td>14331</td>\n",
       "      <td>8</td>\n",
       "      <td>2018</td>\n",
       "      <td>Non Fiction</td>\n",
       "    </tr>\n",
       "    <tr>\n",
       "      <th>549</th>\n",
       "      <td>You Are a Badass: How to Stop Doubting Your Gr...</td>\n",
       "      <td>Jen Sincero</td>\n",
       "      <td>4.7</td>\n",
       "      <td>14331</td>\n",
       "      <td>8</td>\n",
       "      <td>2019</td>\n",
       "      <td>Non Fiction</td>\n",
       "    </tr>\n",
       "  </tbody>\n",
       "</table>\n",
       "<p>392 rows × 7 columns</p>\n",
       "</div>"
      ],
      "text/plain": [
       "                                                  Name  \\\n",
       "0                        10-Day Green Smoothie Cleanse   \n",
       "1                                    11/22/63: A Novel   \n",
       "2              12 Rules for Life: An Antidote to Chaos   \n",
       "3                               1984 (Signet Classics)   \n",
       "4    5,000 Awesome Facts (About Everything!) (Natio...   \n",
       "..                                                 ...   \n",
       "545       Wrecking Ball (Diary of a Wimpy Kid Book 14)   \n",
       "546  You Are a Badass: How to Stop Doubting Your Gr...   \n",
       "547  You Are a Badass: How to Stop Doubting Your Gr...   \n",
       "548  You Are a Badass: How to Stop Doubting Your Gr...   \n",
       "549  You Are a Badass: How to Stop Doubting Your Gr...   \n",
       "\n",
       "                       Author  User Rating  Reviews  Price  Year        Genre  \n",
       "0                    JJ Smith          4.7    17350      8  2016  Non Fiction  \n",
       "1                Stephen King          4.6     2052     22  2011      Fiction  \n",
       "2          Jordan B. Peterson          4.7    18979     15  2018  Non Fiction  \n",
       "3               George Orwell          4.7    21424      6  2017      Fiction  \n",
       "4    National Geographic Kids          4.8     7665     12  2019  Non Fiction  \n",
       "..                        ...          ...      ...    ...   ...          ...  \n",
       "545               Jeff Kinney          4.9     9413      8  2019      Fiction  \n",
       "546               Jen Sincero          4.7    14331      8  2016  Non Fiction  \n",
       "547               Jen Sincero          4.7    14331      8  2017  Non Fiction  \n",
       "548               Jen Sincero          4.7    14331      8  2018  Non Fiction  \n",
       "549               Jen Sincero          4.7    14331      8  2019  Non Fiction  \n",
       "\n",
       "[392 rows x 7 columns]"
      ]
     },
     "execution_count": 45,
     "metadata": {},
     "output_type": "execute_result"
    }
   ],
   "source": [
    "df_rating = df[df['User Rating'] > 4.5]\n",
    "df_rating"
   ]
  },
  {
   "cell_type": "code",
   "execution_count": 46,
   "id": "46ac089a",
   "metadata": {},
   "outputs": [
    {
     "data": {
      "text/plain": [
       "392"
      ]
     },
     "execution_count": 46,
     "metadata": {},
     "output_type": "execute_result"
    }
   ],
   "source": [
    "df_rating.shape[0]"
   ]
  },
  {
   "cell_type": "markdown",
   "id": "df918b1d",
   "metadata": {},
   "source": [
    "10. What is the most common price range for books?"
   ]
  },
  {
   "cell_type": "code",
   "execution_count": 47,
   "id": "3823f7c9",
   "metadata": {},
   "outputs": [],
   "source": [
    "q1 = np.percentile(df['Price'], 25) #identify first quartile\n",
    "q3 = np.percentile(df['Price'], 75) #identfy third quartile"
   ]
  },
  {
   "cell_type": "code",
   "execution_count": 48,
   "id": "fa7bde39",
   "metadata": {},
   "outputs": [
    {
     "name": "stdout",
     "output_type": "stream",
     "text": [
      "The most common price range for books is between  7.0 and 16.0\n"
     ]
    }
   ],
   "source": [
    "print(f'The most common price range for books is between ',q1 , 'and', q3)"
   ]
  },
  {
   "cell_type": "markdown",
   "id": "9736664c",
   "metadata": {},
   "source": [
    "11. What is the average number of reviews for books in each genre?\n"
   ]
  },
  {
   "cell_type": "code",
   "execution_count": 49,
   "id": "2e45c3e5",
   "metadata": {},
   "outputs": [],
   "source": [
    "df_review=df.copy()"
   ]
  },
  {
   "cell_type": "code",
   "execution_count": null,
   "id": "1384015a",
   "metadata": {},
   "outputs": [],
   "source": []
  },
  {
   "cell_type": "code",
   "execution_count": 50,
   "id": "ad5f573a",
   "metadata": {},
   "outputs": [
    {
     "data": {
      "image/png": "[encoded data removed]",
      "text/plain": [
       "<Figure size 432x288 with 1 Axes>"
      ]
     },
     "metadata": {
      "needs_background": "light"
     },
     "output_type": "display_data"
    }
   ],
   "source": [
    "#here we can find the outliers\n",
    "sns.boxplot(x=df_review['Reviews'])\n",
    "plt.show()"
   ]
  },
  {
   "cell_type": "markdown",
   "id": "fa67a661",
   "metadata": {},
   "source": [
    "While studying the boxplot we can spot some outliers in variable price so we need to use IQR Technique to deal with the outilers\n",
    "\n",
    "*********\n",
    "*********\n",
    "Using IQR Technique"
   ]
  },
  {
   "cell_type": "code",
   "execution_count": 51,
   "id": "fa3c5ba9",
   "metadata": {},
   "outputs": [],
   "source": [
    "def iqr(DFcolumns):\n",
    "        Q1 = np.percentile(DFcolumns, 25) #identify first quartile\n",
    "        Q3 = np.percentile(DFcolumns, 75) #identfy third quartile\n",
    "        \n",
    "        IQR = Q3-Q1\n",
    "        \n",
    "        lower_range = Q1 - (1.5 * IQR)\n",
    "        upper_range = Q3 + (1.5 * IQR)\n",
    "        \n",
    "        return lower_range, upper_range"
   ]
  },
  {
   "cell_type": "code",
   "execution_count": 52,
   "id": "e468b9ab",
   "metadata": {},
   "outputs": [],
   "source": [
    "lower_range,upper_range = iqr(df_review['Reviews'])\n",
    "df_review = df_review[(df_review.Reviews > lower_range) & (df_review.Reviews < upper_range)]"
   ]
  },
  {
   "cell_type": "code",
   "execution_count": 53,
   "id": "ee614fd6",
   "metadata": {},
   "outputs": [],
   "source": [
    "df_review['Reviews'] = np.log(df_review['Reviews'])"
   ]
  },
  {
   "cell_type": "code",
   "execution_count": 54,
   "id": "7334c8fc",
   "metadata": {},
   "outputs": [
    {
     "data": {
      "image/png": "[encoded data removed]",
      "text/plain": [
       "<Figure size 432x288 with 1 Axes>"
      ]
     },
     "metadata": {
      "needs_background": "light"
     },
     "output_type": "display_data"
    }
   ],
   "source": [
    "#here we can find the outliers\n",
    "sns.boxplot(x=df_review['Reviews'])\n",
    "plt.show()"
   ]
  },
  {
   "cell_type": "code",
   "execution_count": 55,
   "id": "53aec5ca",
   "metadata": {},
   "outputs": [
    {
     "data": {
      "text/html": [
       "<div>\n",
       "<style scoped>\n",
       "    .dataframe tbody tr th:only-of-type {\n",
       "        vertical-align: middle;\n",
       "    }\n",
       "\n",
       "    .dataframe tbody tr th {\n",
       "        vertical-align: top;\n",
       "    }\n",
       "\n",
       "    .dataframe thead th {\n",
       "        text-align: right;\n",
       "    }\n",
       "</style>\n",
       "<table border=\"1\" class=\"dataframe\">\n",
       "  <thead>\n",
       "    <tr style=\"text-align: right;\">\n",
       "      <th></th>\n",
       "      <th>Genre</th>\n",
       "      <th>Reviews</th>\n",
       "    </tr>\n",
       "  </thead>\n",
       "  <tbody>\n",
       "    <tr>\n",
       "      <th>0</th>\n",
       "      <td>Fiction</td>\n",
       "      <td>9.19</td>\n",
       "    </tr>\n",
       "    <tr>\n",
       "      <th>1</th>\n",
       "      <td>Non Fiction</td>\n",
       "      <td>8.65</td>\n",
       "    </tr>\n",
       "  </tbody>\n",
       "</table>\n",
       "</div>"
      ],
      "text/plain": [
       "         Genre  Reviews\n",
       "0      Fiction     9.19\n",
       "1  Non Fiction     8.65"
      ]
     },
     "execution_count": 55,
     "metadata": {},
     "output_type": "execute_result"
    }
   ],
   "source": [
    "avg_num=df_review.groupby('Genre')['Reviews'].mean().round(2).reset_index()\n",
    "avg_num"
   ]
  },
  {
   "cell_type": "code",
   "execution_count": 56,
   "id": "5e7ddac8",
   "metadata": {},
   "outputs": [
    {
     "data": {
      "image/png": "[encoded data removed]",
      "text/plain": [
       "<Figure size 720x432 with 1 Axes>"
      ]
     },
     "metadata": {
      "needs_background": "light"
     },
     "output_type": "display_data"
    }
   ],
   "source": [
    "# Plot using matplotlib\n",
    "plt.figure(figsize=(10, 6))\n",
    "sns.countplot(avg_num['Genre'])\n",
    "plt.title('The average number of reviews for books in each genre')\n",
    "plt.xticks(rotation=45)\n",
    "plt.show()"
   ]
  },
  {
   "cell_type": "markdown",
   "id": "df12f582",
   "metadata": {},
   "source": [
    "12. How does the average price vary across different genres?\n"
   ]
  },
  {
   "cell_type": "code",
   "execution_count": 57,
   "id": "2aad437f",
   "metadata": {},
   "outputs": [],
   "source": [
    "df_price=df.copy()"
   ]
  },
  {
   "cell_type": "code",
   "execution_count": 58,
   "id": "5118412f",
   "metadata": {},
   "outputs": [
    {
     "name": "stdout",
     "output_type": "stream",
     "text": [
      "(550, 7)\n"
     ]
    },
    {
     "data": {
      "image/png": "[encoded data removed]",
      "text/plain": [
       "<Figure size 432x288 with 1 Axes>"
      ]
     },
     "metadata": {
      "needs_background": "light"
     },
     "output_type": "display_data"
    }
   ],
   "source": [
    "sns.boxplot(x=df_price['Price'])\n",
    "print(df_price.shape)"
   ]
  },
  {
   "cell_type": "code",
   "execution_count": 59,
   "id": "d17570e8",
   "metadata": {},
   "outputs": [],
   "source": [
    "def iqr(DFcolumns):\n",
    "        Q1 = np.percentile(DFcolumns, 25) #identify first quartile\n",
    "        Q3 = np.percentile(DFcolumns, 75) #identfy third quartile\n",
    "        \n",
    "        IQR = Q3-Q1\n",
    "        \n",
    "        lower_range = Q1 - (1.5 * IQR)\n",
    "        upper_range = Q3 + (1.5 * IQR)\n",
    "        \n",
    "        return lower_range, upper_range"
   ]
  },
  {
   "cell_type": "code",
   "execution_count": 60,
   "id": "fa1978ac",
   "metadata": {},
   "outputs": [],
   "source": [
    "lower_range,upper_range = iqr(df_price['Price'])\n",
    "df_price = df_price[(df_price.Price > lower_range) & (df_price.Price < upper_range)]"
   ]
  },
  {
   "cell_type": "code",
   "execution_count": 61,
   "id": "e6c8dcaf",
   "metadata": {},
   "outputs": [
    {
     "data": {
      "image/png": "[encoded data removed]",
      "text/plain": [
       "<Figure size 432x288 with 1 Axes>"
      ]
     },
     "metadata": {
      "needs_background": "light"
     },
     "output_type": "display_data"
    }
   ],
   "source": [
    "sns.boxplot(x=df_price['Price'])\n",
    "plt.show()"
   ]
  },
  {
   "cell_type": "code",
   "execution_count": 62,
   "id": "e5681047",
   "metadata": {},
   "outputs": [
    {
     "data": {
      "text/html": [
       "<div>\n",
       "<style scoped>\n",
       "    .dataframe tbody tr th:only-of-type {\n",
       "        vertical-align: middle;\n",
       "    }\n",
       "\n",
       "    .dataframe tbody tr th {\n",
       "        vertical-align: top;\n",
       "    }\n",
       "\n",
       "    .dataframe thead th {\n",
       "        text-align: right;\n",
       "    }\n",
       "</style>\n",
       "<table border=\"1\" class=\"dataframe\">\n",
       "  <thead>\n",
       "    <tr style=\"text-align: right;\">\n",
       "      <th></th>\n",
       "      <th>Genre</th>\n",
       "      <th>Price</th>\n",
       "    </tr>\n",
       "  </thead>\n",
       "  <tbody>\n",
       "    <tr>\n",
       "      <th>0</th>\n",
       "      <td>Fiction</td>\n",
       "      <td>10.80</td>\n",
       "    </tr>\n",
       "    <tr>\n",
       "      <th>1</th>\n",
       "      <td>Non Fiction</td>\n",
       "      <td>14.87</td>\n",
       "    </tr>\n",
       "  </tbody>\n",
       "</table>\n",
       "</div>"
      ],
      "text/plain": [
       "         Genre  Price\n",
       "0      Fiction  10.80\n",
       "1  Non Fiction  14.87"
      ]
     },
     "execution_count": 62,
     "metadata": {},
     "output_type": "execute_result"
    }
   ],
   "source": [
    "avg_num=df_review.groupby('Genre')['Price'].mean().round(2).reset_index()\n",
    "avg_num"
   ]
  },
  {
   "cell_type": "markdown",
   "id": "4587137e",
   "metadata": {},
   "source": [
    "13. What is the relationship between the number of reviews and the rating of books?"
   ]
  },
  {
   "cell_type": "code",
   "execution_count": 65,
   "id": "50eda3cc",
   "metadata": {},
   "outputs": [],
   "source": [
    "#sns.jointplot(data=df,x='Reviews',y='User Rating',kind='reg')"
   ]
  },
  {
   "cell_type": "code",
   "execution_count": 64,
   "id": "b6729b61",
   "metadata": {},
   "outputs": [
    {
     "data": {
      "image/png": "[encoded data removed]",
      "text/plain": [
       "<Figure size 1080x432 with 1 Axes>"
      ]
     },
     "metadata": {
      "needs_background": "light"
     },
     "output_type": "display_data"
    }
   ],
   "source": [
    "plt.figure(figsize=(15, 6))\n",
    "\n",
    "\n",
    "# Create a scatter plot\n",
    "plt.scatter(df['Reviews'], df['User Rating'], alpha=0.5)\n",
    "plt.xlabel('Number of Reviews')\n",
    "plt.ylabel('User Rating')\n",
    "plt.title('Scatter Plot of Number of Reviews vs User Rating')\n",
    "\n",
    "plt.tight_layout()\n",
    "plt.show()"
   ]
  },
  {
   "cell_type": "markdown",
   "id": "37263b92",
   "metadata": {},
   "source": [
    "14. What are the top 5 books with the highest ratings and the highest number of reviews?\n"
   ]
  },
  {
   "cell_type": "code",
   "execution_count": 66,
   "id": "4563e5d6",
   "metadata": {},
   "outputs": [
    {
     "data": {
      "text/html": [
       "<div>\n",
       "<style scoped>\n",
       "    .dataframe tbody tr th:only-of-type {\n",
       "        vertical-align: middle;\n",
       "    }\n",
       "\n",
       "    .dataframe tbody tr th {\n",
       "        vertical-align: top;\n",
       "    }\n",
       "\n",
       "    .dataframe thead th {\n",
       "        text-align: right;\n",
       "    }\n",
       "</style>\n",
       "<table border=\"1\" class=\"dataframe\">\n",
       "  <thead>\n",
       "    <tr style=\"text-align: right;\">\n",
       "      <th></th>\n",
       "      <th></th>\n",
       "      <th>Reviews</th>\n",
       "      <th>User Rating</th>\n",
       "    </tr>\n",
       "    <tr>\n",
       "      <th>Name</th>\n",
       "      <th>Author</th>\n",
       "      <th></th>\n",
       "      <th></th>\n",
       "    </tr>\n",
       "  </thead>\n",
       "  <tbody>\n",
       "    <tr>\n",
       "      <th>Oh, the Places You'll Go!</th>\n",
       "      <th>Dr. Seuss</th>\n",
       "      <td>174672</td>\n",
       "      <td>4.9</td>\n",
       "    </tr>\n",
       "    <tr>\n",
       "      <th>The Very Hungry Caterpillar</th>\n",
       "      <th>Eric Carle</th>\n",
       "      <td>136822</td>\n",
       "      <td>4.9</td>\n",
       "    </tr>\n",
       "    <tr>\n",
       "      <th>Jesus Calling: Enjoying Peace in His Presence (with Scripture References)</th>\n",
       "      <th>Sarah Young</th>\n",
       "      <td>117456</td>\n",
       "      <td>4.9</td>\n",
       "    </tr>\n",
       "    <tr>\n",
       "      <th>The Wonderful Things You Will Be</th>\n",
       "      <th>Emily Winfield Martin</th>\n",
       "      <td>35368</td>\n",
       "      <td>4.9</td>\n",
       "    </tr>\n",
       "    <tr>\n",
       "      <th>Brown Bear, Brown Bear, What Do You See?</th>\n",
       "      <th>Bill Martin Jr.</th>\n",
       "      <td>28688</td>\n",
       "      <td>4.9</td>\n",
       "    </tr>\n",
       "  </tbody>\n",
       "</table>\n",
       "</div>"
      ],
      "text/plain": [
       "                                                                          Reviews  \\\n",
       "Name                                               Author                           \n",
       "Oh, the Places You'll Go!                          Dr. Seuss               174672   \n",
       "The Very Hungry Caterpillar                        Eric Carle              136822   \n",
       "Jesus Calling: Enjoying Peace in His Presence (... Sarah Young             117456   \n",
       "The Wonderful Things You Will Be                   Emily Winfield Martin    35368   \n",
       "Brown Bear, Brown Bear, What Do You See?           Bill Martin Jr.          28688   \n",
       "\n",
       "                                                                          User Rating  \n",
       "Name                                               Author                              \n",
       "Oh, the Places You'll Go!                          Dr. Seuss                      4.9  \n",
       "The Very Hungry Caterpillar                        Eric Carle                     4.9  \n",
       "Jesus Calling: Enjoying Peace in His Presence (... Sarah Young                    4.9  \n",
       "The Wonderful Things You Will Be                   Emily Winfield Martin          4.9  \n",
       "Brown Bear, Brown Bear, What Do You See?           Bill Martin Jr.                4.9  "
      ]
     },
     "execution_count": 66,
     "metadata": {},
     "output_type": "execute_result"
    }
   ],
   "source": [
    "df.groupby(['Name','Author']).agg({'Reviews':'sum','User Rating':'max'}).sort_values(by=['User Rating','Reviews'],ascending=[False,False]).head(5)"
   ]
  },
  {
   "cell_type": "markdown",
   "id": "210c54f3",
   "metadata": {},
   "source": [
    "15. How has the number of bestseller books published per year changed over time?"
   ]
  },
  {
   "cell_type": "code",
   "execution_count": 67,
   "id": "85da96ca",
   "metadata": {},
   "outputs": [
    {
     "data": {
      "text/html": [
       "<div>\n",
       "<style scoped>\n",
       "    .dataframe tbody tr th:only-of-type {\n",
       "        vertical-align: middle;\n",
       "    }\n",
       "\n",
       "    .dataframe tbody tr th {\n",
       "        vertical-align: top;\n",
       "    }\n",
       "\n",
       "    .dataframe thead th {\n",
       "        text-align: right;\n",
       "    }\n",
       "</style>\n",
       "<table border=\"1\" class=\"dataframe\">\n",
       "  <thead>\n",
       "    <tr style=\"text-align: right;\">\n",
       "      <th></th>\n",
       "      <th>Name</th>\n",
       "    </tr>\n",
       "    <tr>\n",
       "      <th>Publication Year</th>\n",
       "      <th></th>\n",
       "    </tr>\n",
       "  </thead>\n",
       "  <tbody>\n",
       "    <tr>\n",
       "      <th>2009</th>\n",
       "      <td>50</td>\n",
       "    </tr>\n",
       "    <tr>\n",
       "      <th>2010</th>\n",
       "      <td>50</td>\n",
       "    </tr>\n",
       "    <tr>\n",
       "      <th>2011</th>\n",
       "      <td>50</td>\n",
       "    </tr>\n",
       "    <tr>\n",
       "      <th>2012</th>\n",
       "      <td>50</td>\n",
       "    </tr>\n",
       "    <tr>\n",
       "      <th>2013</th>\n",
       "      <td>50</td>\n",
       "    </tr>\n",
       "    <tr>\n",
       "      <th>2014</th>\n",
       "      <td>50</td>\n",
       "    </tr>\n",
       "    <tr>\n",
       "      <th>2015</th>\n",
       "      <td>50</td>\n",
       "    </tr>\n",
       "    <tr>\n",
       "      <th>2016</th>\n",
       "      <td>50</td>\n",
       "    </tr>\n",
       "    <tr>\n",
       "      <th>2017</th>\n",
       "      <td>50</td>\n",
       "    </tr>\n",
       "    <tr>\n",
       "      <th>2018</th>\n",
       "      <td>50</td>\n",
       "    </tr>\n",
       "    <tr>\n",
       "      <th>2019</th>\n",
       "      <td>50</td>\n",
       "    </tr>\n",
       "  </tbody>\n",
       "</table>\n",
       "</div>"
      ],
      "text/plain": [
       "                  Name\n",
       "Publication Year      \n",
       "2009                50\n",
       "2010                50\n",
       "2011                50\n",
       "2012                50\n",
       "2013                50\n",
       "2014                50\n",
       "2015                50\n",
       "2016                50\n",
       "2017                50\n",
       "2018                50\n",
       "2019                50"
      ]
     },
     "execution_count": 67,
     "metadata": {},
     "output_type": "execute_result"
    }
   ],
   "source": [
    "df['Publication Year'] = pd.to_datetime(df['Year'], format='%Y').dt.year\n",
    "\n",
    "bestsellers_per_year = df.groupby('Publication Year').agg({'Name':'count'})\n",
    "bestsellers_per_year"
   ]
  },
  {
   "cell_type": "code",
   "execution_count": null,
   "id": "947a9fb5",
   "metadata": {},
   "outputs": [],
   "source": []
  }
 ],
 "metadata": {
  "kernelspec": {
   "display_name": "Python 3 (ipykernel)",
   "language": "python",
   "name": "python3"
  },
  "language_info": {
   "codemirror_mode": {
    "name": "ipython",
    "version": 3
   },
   "file_extension": ".py",
   "mimetype": "text/x-python",
   "name": "python",
   "nbconvert_exporter": "python",
   "pygments_lexer": "ipython3",
   "version": "3.9.7"
  }
 },
 "nbformat": 4,
 "nbformat_minor": 5
}
